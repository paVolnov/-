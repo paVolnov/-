{
 "cells": [
  {
   "cell_type": "markdown",
   "metadata": {
    "id": "o0iL8EYISZ_D"
   },
   "source": [
    "# Лінійна регресія: перенавчання та регуляризація"
   ]
  },
  {
   "cell_type": "markdown",
   "metadata": {
    "id": "i4x5PHAOSe3f"
   },
   "source": [
    "У цьому завданні ми на прикладах побачимо, як перенавчаються лінійні моделі, розберемо, чому так відбувається, і з'ясуємо, як діагностувати та контролювати перенавчання.\n",
    "\n",
    "У всіх комірках, де написано коментар з інструкціями, потрібно написати код, який виконує ці інструкції. Інші комірки з кодом (без коментарів) потрібно просто виконати. Крім того, у завданні потрібно відповідати на запитання; відповіді слід вписувати після виділеного слова \"Відповідь:\"."
   ]
  },
  {
   "cell_type": "code",
   "execution_count": null,
   "metadata": {
    "id": "IhYOzoTaSglL"
   },
   "outputs": [],
   "source": [
    "import pandas as pd\n",
    "import numpy as np\n",
    "from matplotlib import pyplot as plt\n",
    "%matplotlib inline\n",
    "import seaborn as sns"
   ]
  },
  {
   "cell_type": "markdown",
   "metadata": {
    "id": "HNwSij1vSyEt"
   },
   "source": [
    "Ми будемо працювати з датасетом \"bikes_rent.csv\", в якому щодня записані календарна інформація та погодні умови, що характеризують автоматизовані пункти прокату велосипедів, а також кількість прокатів цього дня. Останнє ми передбачатимемо; таким чином, ми вирішуватимемо завдання регресії."
   ]
  },
  {
   "cell_type": "markdown",
   "metadata": {
    "id": "03MDrVMMS6Qe"
   },
   "source": [
    "### Знакомство с данными"
   ]
  },
  {
   "cell_type": "markdown",
   "metadata": {
    "id": "7d-0XB9HS9Bk"
   },
   "source": [
    "# Завдання 1"
   ]
  },
  {
   "cell_type": "markdown",
   "metadata": {
    "id": "JVUX89PRTB3Z"
   },
   "source": [
    "Завантажте датасет за допомогою функції pandas.read_csv у змінну df. Виведіть перші 5 рядків, щоб переконатися у коректному зчитуванні даних:"
   ]
  },
  {
   "cell_type": "code",
   "execution_count": null,
   "metadata": {
    "colab": {
     "base_uri": "https://localhost:8080/",
     "height": 206
    },
    "id": "SKaqTbPtTHto",
    "outputId": "89798c98-a849-4343-a3e3-5c85b20dab6e"
   },
   "outputs": [
    {
     "data": {
      "text/html": [
       "\n",
       "  <div id=\"df-f184a81d-cef0-48e8-99b0-1da956ba8df5\">\n",
       "    <div class=\"colab-df-container\">\n",
       "      <div>\n",
       "<style scoped>\n",
       "    .dataframe tbody tr th:only-of-type {\n",
       "        vertical-align: middle;\n",
       "    }\n",
       "\n",
       "    .dataframe tbody tr th {\n",
       "        vertical-align: top;\n",
       "    }\n",
       "\n",
       "    .dataframe thead th {\n",
       "        text-align: right;\n",
       "    }\n",
       "</style>\n",
       "<table border=\"1\" class=\"dataframe\">\n",
       "  <thead>\n",
       "    <tr style=\"text-align: right;\">\n",
       "      <th></th>\n",
       "      <th>season</th>\n",
       "      <th>yr</th>\n",
       "      <th>mnth</th>\n",
       "      <th>holiday</th>\n",
       "      <th>weekday</th>\n",
       "      <th>workingday</th>\n",
       "      <th>weathersit</th>\n",
       "      <th>temp</th>\n",
       "      <th>atemp</th>\n",
       "      <th>hum</th>\n",
       "      <th>windspeed(mph)</th>\n",
       "      <th>windspeed(ms)</th>\n",
       "      <th>cnt</th>\n",
       "    </tr>\n",
       "  </thead>\n",
       "  <tbody>\n",
       "    <tr>\n",
       "      <th>0</th>\n",
       "      <td>1</td>\n",
       "      <td>0</td>\n",
       "      <td>1</td>\n",
       "      <td>0</td>\n",
       "      <td>6</td>\n",
       "      <td>0</td>\n",
       "      <td>2</td>\n",
       "      <td>14.110847</td>\n",
       "      <td>18.18125</td>\n",
       "      <td>80.5833</td>\n",
       "      <td>10.749882</td>\n",
       "      <td>4.805490</td>\n",
       "      <td>985</td>\n",
       "    </tr>\n",
       "    <tr>\n",
       "      <th>1</th>\n",
       "      <td>1</td>\n",
       "      <td>0</td>\n",
       "      <td>1</td>\n",
       "      <td>0</td>\n",
       "      <td>0</td>\n",
       "      <td>0</td>\n",
       "      <td>2</td>\n",
       "      <td>14.902598</td>\n",
       "      <td>17.68695</td>\n",
       "      <td>69.6087</td>\n",
       "      <td>16.652113</td>\n",
       "      <td>7.443949</td>\n",
       "      <td>801</td>\n",
       "    </tr>\n",
       "    <tr>\n",
       "      <th>2</th>\n",
       "      <td>1</td>\n",
       "      <td>0</td>\n",
       "      <td>1</td>\n",
       "      <td>0</td>\n",
       "      <td>1</td>\n",
       "      <td>1</td>\n",
       "      <td>1</td>\n",
       "      <td>8.050924</td>\n",
       "      <td>9.47025</td>\n",
       "      <td>43.7273</td>\n",
       "      <td>16.636703</td>\n",
       "      <td>7.437060</td>\n",
       "      <td>1349</td>\n",
       "    </tr>\n",
       "    <tr>\n",
       "      <th>3</th>\n",
       "      <td>1</td>\n",
       "      <td>0</td>\n",
       "      <td>1</td>\n",
       "      <td>0</td>\n",
       "      <td>2</td>\n",
       "      <td>1</td>\n",
       "      <td>1</td>\n",
       "      <td>8.200000</td>\n",
       "      <td>10.60610</td>\n",
       "      <td>59.0435</td>\n",
       "      <td>10.739832</td>\n",
       "      <td>4.800998</td>\n",
       "      <td>1562</td>\n",
       "    </tr>\n",
       "    <tr>\n",
       "      <th>4</th>\n",
       "      <td>1</td>\n",
       "      <td>0</td>\n",
       "      <td>1</td>\n",
       "      <td>0</td>\n",
       "      <td>3</td>\n",
       "      <td>1</td>\n",
       "      <td>1</td>\n",
       "      <td>9.305237</td>\n",
       "      <td>11.46350</td>\n",
       "      <td>43.6957</td>\n",
       "      <td>12.522300</td>\n",
       "      <td>5.597810</td>\n",
       "      <td>1600</td>\n",
       "    </tr>\n",
       "  </tbody>\n",
       "</table>\n",
       "</div>\n",
       "      <button class=\"colab-df-convert\" onclick=\"convertToInteractive('df-f184a81d-cef0-48e8-99b0-1da956ba8df5')\"\n",
       "              title=\"Convert this dataframe to an interactive table.\"\n",
       "              style=\"display:none;\">\n",
       "        \n",
       "  <svg xmlns=\"http://www.w3.org/2000/svg\" height=\"24px\"viewBox=\"0 0 24 24\"\n",
       "       width=\"24px\">\n",
       "    <path d=\"M0 0h24v24H0V0z\" fill=\"none\"/>\n",
       "    <path d=\"M18.56 5.44l.94 2.06.94-2.06 2.06-.94-2.06-.94-.94-2.06-.94 2.06-2.06.94zm-11 1L8.5 8.5l.94-2.06 2.06-.94-2.06-.94L8.5 2.5l-.94 2.06-2.06.94zm10 10l.94 2.06.94-2.06 2.06-.94-2.06-.94-.94-2.06-.94 2.06-2.06.94z\"/><path d=\"M17.41 7.96l-1.37-1.37c-.4-.4-.92-.59-1.43-.59-.52 0-1.04.2-1.43.59L10.3 9.45l-7.72 7.72c-.78.78-.78 2.05 0 2.83L4 21.41c.39.39.9.59 1.41.59.51 0 1.02-.2 1.41-.59l7.78-7.78 2.81-2.81c.8-.78.8-2.07 0-2.86zM5.41 20L4 18.59l7.72-7.72 1.47 1.35L5.41 20z\"/>\n",
       "  </svg>\n",
       "      </button>\n",
       "      \n",
       "  <style>\n",
       "    .colab-df-container {\n",
       "      display:flex;\n",
       "      flex-wrap:wrap;\n",
       "      gap: 12px;\n",
       "    }\n",
       "\n",
       "    .colab-df-convert {\n",
       "      background-color: #E8F0FE;\n",
       "      border: none;\n",
       "      border-radius: 50%;\n",
       "      cursor: pointer;\n",
       "      display: none;\n",
       "      fill: #1967D2;\n",
       "      height: 32px;\n",
       "      padding: 0 0 0 0;\n",
       "      width: 32px;\n",
       "    }\n",
       "\n",
       "    .colab-df-convert:hover {\n",
       "      background-color: #E2EBFA;\n",
       "      box-shadow: 0px 1px 2px rgba(60, 64, 67, 0.3), 0px 1px 3px 1px rgba(60, 64, 67, 0.15);\n",
       "      fill: #174EA6;\n",
       "    }\n",
       "\n",
       "    [theme=dark] .colab-df-convert {\n",
       "      background-color: #3B4455;\n",
       "      fill: #D2E3FC;\n",
       "    }\n",
       "\n",
       "    [theme=dark] .colab-df-convert:hover {\n",
       "      background-color: #434B5C;\n",
       "      box-shadow: 0px 1px 3px 1px rgba(0, 0, 0, 0.15);\n",
       "      filter: drop-shadow(0px 1px 2px rgba(0, 0, 0, 0.3));\n",
       "      fill: #FFFFFF;\n",
       "    }\n",
       "  </style>\n",
       "\n",
       "      <script>\n",
       "        const buttonEl =\n",
       "          document.querySelector('#df-f184a81d-cef0-48e8-99b0-1da956ba8df5 button.colab-df-convert');\n",
       "        buttonEl.style.display =\n",
       "          google.colab.kernel.accessAllowed ? 'block' : 'none';\n",
       "\n",
       "        async function convertToInteractive(key) {\n",
       "          const element = document.querySelector('#df-f184a81d-cef0-48e8-99b0-1da956ba8df5');\n",
       "          const dataTable =\n",
       "            await google.colab.kernel.invokeFunction('convertToInteractive',\n",
       "                                                     [key], {});\n",
       "          if (!dataTable) return;\n",
       "\n",
       "          const docLinkHtml = 'Like what you see? Visit the ' +\n",
       "            '<a target=\"_blank\" href=https://colab.research.google.com/notebooks/data_table.ipynb>data table notebook</a>'\n",
       "            + ' to learn more about interactive tables.';\n",
       "          element.innerHTML = '';\n",
       "          dataTable['output_type'] = 'display_data';\n",
       "          await google.colab.output.renderOutput(dataTable, element);\n",
       "          const docLink = document.createElement('div');\n",
       "          docLink.innerHTML = docLinkHtml;\n",
       "          element.appendChild(docLink);\n",
       "        }\n",
       "      </script>\n",
       "    </div>\n",
       "  </div>\n",
       "  "
      ],
      "text/plain": [
       "   season  yr  mnth  holiday  weekday  workingday  weathersit       temp  \\\n",
       "0       1   0     1        0        6           0           2  14.110847   \n",
       "1       1   0     1        0        0           0           2  14.902598   \n",
       "2       1   0     1        0        1           1           1   8.050924   \n",
       "3       1   0     1        0        2           1           1   8.200000   \n",
       "4       1   0     1        0        3           1           1   9.305237   \n",
       "\n",
       "      atemp      hum  windspeed(mph)  windspeed(ms)   cnt  \n",
       "0  18.18125  80.5833       10.749882       4.805490   985  \n",
       "1  17.68695  69.6087       16.652113       7.443949   801  \n",
       "2   9.47025  43.7273       16.636703       7.437060  1349  \n",
       "3  10.60610  59.0435       10.739832       4.800998  1562  \n",
       "4  11.46350  43.6957       12.522300       5.597810  1600  "
      ]
     },
     "execution_count": 2,
     "metadata": {},
     "output_type": "execute_result"
    }
   ],
   "source": [
    "#Додайте код"
   ]
  },
  {
   "cell_type": "markdown",
   "metadata": {
    "id": "JBJ-A1upTmbT"
   },
   "source": [
    "Для кожного дня прокату відомі такі ознаки:\n",
    "\n",
    "* _season_: 1 - весна, 2 - літо, 3 - осінь, 4 - зима\n",
    "* _yr_: 0 - 2011, 1 - 2012\n",
    "* _mnth_: від 1 до 12\n",
    "* _holiday_: 0 – немає свята, 1 – є свято\n",
    "* _weekday_: від 0 до 6\n",
    "* _workingday_: 0 - неробочий день, 1 - робочий день\n",
    "* _weathersit_: оцінка сприятливості погоди від 1 (чистий, ясний день) до 4 (злива, туман)\n",
    "* _temp_: температура у Цельсіях\n",
    "* _atemp_: температура по відчуттям у Цельсіях\n",
    "* _hum_: вологість\n",
    "* _windspeed(mph)_: швидкість вітру в милях на годину\n",
    "* _windspeed(ms)_: швидкість вітру в метрах за секунду\n",
    "* _cnt_: кількість орендованих велосипедів (це цільова ознака, його ми передбачатимемо)\n",
    "\n",
    "Отже, у нас є дійсні, бінарні та номінальні (порядкові) ознаки, і з усіма з них можна працювати як із речовими. З номінальними ознаками теж можна працювати як із дійсними, тому що на них заданий порядок. Давайте подивимося на графіках, як цільова ознака залежить від інших\n",
    "\n",
    "Побудуйте графіки залежностей атрибутів від кількості подорожей. Тобто вам потрібно побудувати 12 графіків. На кожному має бути зображена залежність чергового атрибуту від змінної **cnt**."
   ]
  },
  {
   "cell_type": "code",
   "execution_count": 1,
   "metadata": {
    "colab": {
     "base_uri": "https://localhost:8080/",
     "height": 957
    },
    "id": "uilcDqeeUyoc",
    "outputId": "f4e386f7-9b40-4b42-b564-d5f321776673"
   },
   "outputs": [],
   "source": [
    "#Додайте код"
   ]
  },
  {
   "cell_type": "markdown",
   "metadata": {
    "id": "rz1LnXb9a6Dk"
   },
   "source": [
    "Питання:\n",
    "1. Який характер залежності кількості прокатів від місяця?\n",
    "1. Вкажіть одну чи дві ознаки, від яких кількість прокатів швидше за все залежить лінійно\n"
   ]
  },
  {
   "cell_type": "markdown",
   "metadata": {
    "id": "Zzp6aMHpcrja"
   },
   "source": [
    "# Завдання 2\n",
    "\n",
    "Давайте суворо оцінимо рівень лінійної залежності між ознаками та цільовою змінною. Гарною мірою лінійної залежності між двома векторами є кореляція Пірсона. Для її обчислення в pandas можна використовувати методи датафрейму: corr та corrwith."
   ]
  },
  {
   "cell_type": "markdown",
   "metadata": {
    "id": "jglFs2bYa9cV"
   },
   "source": [
    "Порахуйте кореляції всіх ознак, крім останньої, з останнім за допомогою методу `corrwith`."
   ]
  },
  {
   "cell_type": "code",
   "execution_count": null,
   "metadata": {
    "colab": {
     "base_uri": "https://localhost:8080/"
    },
    "id": "MF-fS4fRdXnc",
    "outputId": "7aa58072-0ff6-4cb0-a61d-ed3ddfd8b190"
   },
   "outputs": [
    {
     "data": {
      "text/plain": [
       "season            0.406100\n",
       "yr                0.566710\n",
       "mnth              0.279977\n",
       "holiday          -0.068348\n",
       "weekday           0.067443\n",
       "workingday        0.061156\n",
       "weathersit       -0.297391\n",
       "temp              0.627494\n",
       "atemp             0.631066\n",
       "hum              -0.100659\n",
       "windspeed(mph)   -0.234545\n",
       "windspeed(ms)    -0.234545\n",
       "dtype: float64"
      ]
     },
     "execution_count": 4,
     "metadata": {},
     "output_type": "execute_result"
    }
   ],
   "source": [
    "#Додайте код"
   ]
  },
  {
   "cell_type": "markdown",
   "metadata": {
    "id": "WQuIjI_mekMq"
   },
   "source": [
    "У вибірці є ознаки, що корелюють із цільовим, а отже, завдання можна вирішувати лінійними методами."
   ]
  },
  {
   "cell_type": "markdown",
   "metadata": {
    "id": "YMitg6tBeoKJ"
   },
   "source": [
    "По графікам видно, деякі ознаки схожі один на одного. Тому давайте також порахуємо кореляції між дійсними ознаками."
   ]
  },
  {
   "cell_type": "markdown",
   "metadata": {
    "id": "DLWP1bK9ewjQ"
   },
   "source": [
    "# Завдання 3\n",
    "\n",
    "Порахуйте попарні кореляції між ознаками temp, atemp, hum, windspeed(mph), windspeed(ms) та cnt\n",
    "за допомогою методу corr:"
   ]
  },
  {
   "cell_type": "code",
   "execution_count": null,
   "metadata": {
    "colab": {
     "base_uri": "https://localhost:8080/",
     "height": 238
    },
    "id": "TkGFrTMru-y_",
    "outputId": "56f42165-097d-4d6b-d02e-0930ec903275"
   },
   "outputs": [
    {
     "data": {
      "text/html": [
       "\n",
       "  <div id=\"df-9f679886-4ac0-4003-8a05-5e08144882d3\">\n",
       "    <div class=\"colab-df-container\">\n",
       "      <div>\n",
       "<style scoped>\n",
       "    .dataframe tbody tr th:only-of-type {\n",
       "        vertical-align: middle;\n",
       "    }\n",
       "\n",
       "    .dataframe tbody tr th {\n",
       "        vertical-align: top;\n",
       "    }\n",
       "\n",
       "    .dataframe thead th {\n",
       "        text-align: right;\n",
       "    }\n",
       "</style>\n",
       "<table border=\"1\" class=\"dataframe\">\n",
       "  <thead>\n",
       "    <tr style=\"text-align: right;\">\n",
       "      <th></th>\n",
       "      <th>temp</th>\n",
       "      <th>atemp</th>\n",
       "      <th>hum</th>\n",
       "      <th>windspeed(mph)</th>\n",
       "      <th>windspeed(ms)</th>\n",
       "      <th>cnt</th>\n",
       "    </tr>\n",
       "  </thead>\n",
       "  <tbody>\n",
       "    <tr>\n",
       "      <th>temp</th>\n",
       "      <td>1.000000</td>\n",
       "      <td>0.991702</td>\n",
       "      <td>0.126963</td>\n",
       "      <td>-0.157944</td>\n",
       "      <td>-0.157944</td>\n",
       "      <td>0.627494</td>\n",
       "    </tr>\n",
       "    <tr>\n",
       "      <th>atemp</th>\n",
       "      <td>0.991702</td>\n",
       "      <td>1.000000</td>\n",
       "      <td>0.139988</td>\n",
       "      <td>-0.183643</td>\n",
       "      <td>-0.183643</td>\n",
       "      <td>0.631066</td>\n",
       "    </tr>\n",
       "    <tr>\n",
       "      <th>hum</th>\n",
       "      <td>0.126963</td>\n",
       "      <td>0.139988</td>\n",
       "      <td>1.000000</td>\n",
       "      <td>-0.248489</td>\n",
       "      <td>-0.248489</td>\n",
       "      <td>-0.100659</td>\n",
       "    </tr>\n",
       "    <tr>\n",
       "      <th>windspeed(mph)</th>\n",
       "      <td>-0.157944</td>\n",
       "      <td>-0.183643</td>\n",
       "      <td>-0.248489</td>\n",
       "      <td>1.000000</td>\n",
       "      <td>1.000000</td>\n",
       "      <td>-0.234545</td>\n",
       "    </tr>\n",
       "    <tr>\n",
       "      <th>windspeed(ms)</th>\n",
       "      <td>-0.157944</td>\n",
       "      <td>-0.183643</td>\n",
       "      <td>-0.248489</td>\n",
       "      <td>1.000000</td>\n",
       "      <td>1.000000</td>\n",
       "      <td>-0.234545</td>\n",
       "    </tr>\n",
       "    <tr>\n",
       "      <th>cnt</th>\n",
       "      <td>0.627494</td>\n",
       "      <td>0.631066</td>\n",
       "      <td>-0.100659</td>\n",
       "      <td>-0.234545</td>\n",
       "      <td>-0.234545</td>\n",
       "      <td>1.000000</td>\n",
       "    </tr>\n",
       "  </tbody>\n",
       "</table>\n",
       "</div>\n",
       "      <button class=\"colab-df-convert\" onclick=\"convertToInteractive('df-9f679886-4ac0-4003-8a05-5e08144882d3')\"\n",
       "              title=\"Convert this dataframe to an interactive table.\"\n",
       "              style=\"display:none;\">\n",
       "        \n",
       "  <svg xmlns=\"http://www.w3.org/2000/svg\" height=\"24px\"viewBox=\"0 0 24 24\"\n",
       "       width=\"24px\">\n",
       "    <path d=\"M0 0h24v24H0V0z\" fill=\"none\"/>\n",
       "    <path d=\"M18.56 5.44l.94 2.06.94-2.06 2.06-.94-2.06-.94-.94-2.06-.94 2.06-2.06.94zm-11 1L8.5 8.5l.94-2.06 2.06-.94-2.06-.94L8.5 2.5l-.94 2.06-2.06.94zm10 10l.94 2.06.94-2.06 2.06-.94-2.06-.94-.94-2.06-.94 2.06-2.06.94z\"/><path d=\"M17.41 7.96l-1.37-1.37c-.4-.4-.92-.59-1.43-.59-.52 0-1.04.2-1.43.59L10.3 9.45l-7.72 7.72c-.78.78-.78 2.05 0 2.83L4 21.41c.39.39.9.59 1.41.59.51 0 1.02-.2 1.41-.59l7.78-7.78 2.81-2.81c.8-.78.8-2.07 0-2.86zM5.41 20L4 18.59l7.72-7.72 1.47 1.35L5.41 20z\"/>\n",
       "  </svg>\n",
       "      </button>\n",
       "      \n",
       "  <style>\n",
       "    .colab-df-container {\n",
       "      display:flex;\n",
       "      flex-wrap:wrap;\n",
       "      gap: 12px;\n",
       "    }\n",
       "\n",
       "    .colab-df-convert {\n",
       "      background-color: #E8F0FE;\n",
       "      border: none;\n",
       "      border-radius: 50%;\n",
       "      cursor: pointer;\n",
       "      display: none;\n",
       "      fill: #1967D2;\n",
       "      height: 32px;\n",
       "      padding: 0 0 0 0;\n",
       "      width: 32px;\n",
       "    }\n",
       "\n",
       "    .colab-df-convert:hover {\n",
       "      background-color: #E2EBFA;\n",
       "      box-shadow: 0px 1px 2px rgba(60, 64, 67, 0.3), 0px 1px 3px 1px rgba(60, 64, 67, 0.15);\n",
       "      fill: #174EA6;\n",
       "    }\n",
       "\n",
       "    [theme=dark] .colab-df-convert {\n",
       "      background-color: #3B4455;\n",
       "      fill: #D2E3FC;\n",
       "    }\n",
       "\n",
       "    [theme=dark] .colab-df-convert:hover {\n",
       "      background-color: #434B5C;\n",
       "      box-shadow: 0px 1px 3px 1px rgba(0, 0, 0, 0.15);\n",
       "      filter: drop-shadow(0px 1px 2px rgba(0, 0, 0, 0.3));\n",
       "      fill: #FFFFFF;\n",
       "    }\n",
       "  </style>\n",
       "\n",
       "      <script>\n",
       "        const buttonEl =\n",
       "          document.querySelector('#df-9f679886-4ac0-4003-8a05-5e08144882d3 button.colab-df-convert');\n",
       "        buttonEl.style.display =\n",
       "          google.colab.kernel.accessAllowed ? 'block' : 'none';\n",
       "\n",
       "        async function convertToInteractive(key) {\n",
       "          const element = document.querySelector('#df-9f679886-4ac0-4003-8a05-5e08144882d3');\n",
       "          const dataTable =\n",
       "            await google.colab.kernel.invokeFunction('convertToInteractive',\n",
       "                                                     [key], {});\n",
       "          if (!dataTable) return;\n",
       "\n",
       "          const docLinkHtml = 'Like what you see? Visit the ' +\n",
       "            '<a target=\"_blank\" href=https://colab.research.google.com/notebooks/data_table.ipynb>data table notebook</a>'\n",
       "            + ' to learn more about interactive tables.';\n",
       "          element.innerHTML = '';\n",
       "          dataTable['output_type'] = 'display_data';\n",
       "          await google.colab.output.renderOutput(dataTable, element);\n",
       "          const docLink = document.createElement('div');\n",
       "          docLink.innerHTML = docLinkHtml;\n",
       "          element.appendChild(docLink);\n",
       "        }\n",
       "      </script>\n",
       "    </div>\n",
       "  </div>\n",
       "  "
      ],
      "text/plain": [
       "                    temp     atemp       hum  windspeed(mph)  windspeed(ms)  \\\n",
       "temp            1.000000  0.991702  0.126963       -0.157944      -0.157944   \n",
       "atemp           0.991702  1.000000  0.139988       -0.183643      -0.183643   \n",
       "hum             0.126963  0.139988  1.000000       -0.248489      -0.248489   \n",
       "windspeed(mph) -0.157944 -0.183643 -0.248489        1.000000       1.000000   \n",
       "windspeed(ms)  -0.157944 -0.183643 -0.248489        1.000000       1.000000   \n",
       "cnt             0.627494  0.631066 -0.100659       -0.234545      -0.234545   \n",
       "\n",
       "                     cnt  \n",
       "temp            0.627494  \n",
       "atemp           0.631066  \n",
       "hum            -0.100659  \n",
       "windspeed(mph) -0.234545  \n",
       "windspeed(ms)  -0.234545  \n",
       "cnt             1.000000  "
      ]
     },
     "execution_count": 5,
     "metadata": {},
     "output_type": "execute_result"
    }
   ],
   "source": [
    "#Додайте код"
   ]
  },
  {
   "cell_type": "code",
   "execution_count": null,
   "metadata": {
    "colab": {
     "base_uri": "https://localhost:8080/",
     "height": 612
    },
    "id": "SozifGtPu9zt",
    "outputId": "1c0902e6-34ab-4917-84c8-b7822b30313d"
   },
   "outputs": [
    {
     "data": {
      "image/png": "[encoded data removed]",
      "text/plain": [
       "<Figure size 1152x720 with 2 Axes>"
      ]
     },
     "metadata": {
      "needs_background": "light"
     },
     "output_type": "display_data"
    }
   ],
   "source": [
    "plt.rcParams[\"figure.figsize\"] = (16, 10)\n",
    "sns.heatmap(df.iloc[:, 7:].corr(), annot=True, cmap='icefire_r')\n",
    "plt.title('Попарні кореляції між ознаками', fontsize=20, color='g')\n",
    "plt.show()"
   ]
  },
  {
   "cell_type": "markdown",
   "metadata": {
    "id": "5JWPReToyamR"
   },
   "source": [
    "На діагоналях, як і належить, стоять одиниці. Однак у матриці є ще дві пари сильно корелюючих стовпців: temp і atemp (корелюють за своєю природою) і два windspeed (бо це просто переведення одних одиниць в інші). Далі ми побачимо, що цей факт негативно впливає на навчання лінійної моделі."
   ]
  },
  {
   "cell_type": "markdown",
   "metadata": {
    "id": "ELg-PZWlygCh"
   },
   "source": [
    "# Завдання 4\n",
    "\n",
    "Виведіть середні ознаки"
   ]
  },
  {
   "cell_type": "code",
   "execution_count": null,
   "metadata": {
    "colab": {
     "base_uri": "https://localhost:8080/"
    },
    "id": "avXUz805yxmF",
    "outputId": "e6b46ead-f0a9-4ad2-ad85-dacceb16900c"
   },
   "outputs": [
    {
     "data": {
      "text/plain": [
       "season               2.496580\n",
       "yr                   0.500684\n",
       "mnth                 6.519836\n",
       "holiday              0.028728\n",
       "weekday              2.997264\n",
       "workingday           0.683995\n",
       "weathersit           1.395349\n",
       "temp                20.310776\n",
       "atemp               23.717699\n",
       "hum                 62.789406\n",
       "windspeed(mph)      12.762576\n",
       "windspeed(ms)        5.705220\n",
       "cnt               4504.348837\n",
       "dtype: float64"
      ]
     },
     "execution_count": 7,
     "metadata": {},
     "output_type": "execute_result"
    }
   ],
   "source": [
    "#Додайте код"
   ]
  },
  {
   "cell_type": "markdown",
   "metadata": {
    "id": "sF79r_S9y5JI"
   },
   "source": [
    "Ознаки мають різний масштаб, отже, для подальшої роботи нам краще нормувати матрицю об'єкти-ознаки."
   ]
  },
  {
   "cell_type": "markdown",
   "metadata": {
    "id": "fMQINge9y6du"
   },
   "source": [
    "### Проблема перша: колінеарні ознаки"
   ]
  },
  {
   "cell_type": "markdown",
   "metadata": {
    "id": "bc-3wjDRy_OD"
   },
   "source": [
    "Отже, в наших даних одна ознака дублює іншу, і є ще дві дуже схожі. Звичайно, ми могли б відразу видалити дублікати, але давайте подивимося, як відбувалося б навчання моделі, якби ми не помітили цю проблему.\n",
    "\n",
    "Для початку проведемо масштабування, або стандартизацію ознак: з кожної ознаки віднімемо його середнє і поділимо стандартне відхилення. Це можна зробити за допомогою методу scale.\n",
    "\n",
    "Крім того, потрібно перемішати вибірку, це буде потрібно для крос-валідації."
   ]
  },
  {
   "cell_type": "code",
   "execution_count": null,
   "metadata": {
    "id": "eaKL_5x1zDsk"
   },
   "outputs": [],
   "source": [
    "from sklearn.preprocessing import scale\n",
    "from sklearn.utils import shuffle"
   ]
  },
  {
   "cell_type": "code",
   "execution_count": null,
   "metadata": {
    "id": "l8_AGIwqzU9E"
   },
   "outputs": [],
   "source": [
    "df_shuffled = shuffle(df, random_state=42)\n",
    "X = scale(df_shuffled[df_shuffled.columns[:-1]])\n",
    "y = df_shuffled[\"cnt\"]"
   ]
  },
  {
   "cell_type": "markdown",
   "metadata": {
    "id": "bwD2H7Vczeuf"
   },
   "source": [
    "Давайте навчимо лінійну регресію на наших даних і подивимося на ваги ознак."
   ]
  },
  {
   "cell_type": "code",
   "execution_count": null,
   "metadata": {
    "id": "F9qIN6km4K0T"
   },
   "outputs": [],
   "source": [
    "from sklearn.linear_model import LinearRegression"
   ]
  },
  {
   "cell_type": "markdown",
   "metadata": {
    "id": "K2DsbFROzhj5"
   },
   "source": [
    "# Завдання 5\n",
    "\n",
    "Створіть об'єкт лінійного регресора, навчіть його на всіх даних і виведіть ваги моделі (ваги зберігаються в змінній `coef_` класу регресора). Можна виводити пари (назва ознаки, вага), скориставшись функцією `zip`, вбудованою в мову python. Назви ознак зберігаються у змінній `df.columns`."
   ]
  },
  {
   "cell_type": "code",
   "execution_count": null,
   "metadata": {
    "colab": {
     "base_uri": "https://localhost:8080/"
    },
    "id": "eWkNBMVs5Z03",
    "outputId": "400f8c53-cfec-49f5-c846-2eda4b85e847"
   },
   "outputs": [
    {
     "data": {
      "text/plain": [
       "[('season', 570.8637960129914),\n",
       " ('yr', 1021.9648782332522),\n",
       " ('mnth', -141.3017378654023),\n",
       " ('holiday', -86.75964877332409),\n",
       " ('weekday', 137.2250303848341),\n",
       " ('workingday', 56.392037176415826),\n",
       " ('weathersit', -330.22651729468936),\n",
       " ('temp', 367.48393009834837),\n",
       " ('atemp', 585.5496052655428),\n",
       " ('hum', -145.61424781833608),\n",
       " ('windspeed(mph)', 12457138390688.885),\n",
       " ('windspeed(ms)', -12457138390887.346)]"
      ]
     },
     "execution_count": 11,
     "metadata": {},
     "output_type": "execute_result"
    }
   ],
   "source": [
    "reg = LinearRegression().fit(X, y)\n",
    "[i for i in list(zip(df.columns, reg.coef_))]"
   ]
  },
  {
   "cell_type": "markdown",
   "metadata": {
    "id": "NL2UOcqizmDf"
   },
   "source": [
    "Ми бачимо, що ваги при лінійно-залежних ознаках по модулю значно більші, ніж за інших ознак. Щоб зрозуміти, чому так сталося, згадаємо аналітичну формулу, за якою обчислюються ваги лінійної моделі у методі найменших квадратів:\n",
    "\n",
    "$$w = (X^TX)^{-1} X^T y$$\n",
    "\n",
    "Якщо $X$ є колінеарні (лінійно-залежні) стовпці, матриця $X^TX$ стає виродженою, і формула перестає бути коректною. Чим більш залежні ознаки, тим меншим є визначник цієї матриці і тим гірша апроксимація $Xw \\approx y$. Таку ситуацію називають _проблемою мультиколлінеарності_."
   ]
  },
  {
   "cell_type": "markdown",
   "metadata": {
    "id": "sadCohuG3PVT"
   },
   "source": [
    "З парою (temp, atemp) трохи менш корелюючих змінних такого не сталося, проте на практиці завжди варто уважно стежити за коефіцієнтами за схожих ознак."
   ]
  },
  {
   "cell_type": "markdown",
   "metadata": {
    "id": "wjJJE9SB3VRm"
   },
   "source": [
    "Для того, щоб вирішити проблему мультиколінеарності, потрібно скористатися регуляризатором. До функціонала, що оптимізується, додають $L_1$ або $L_2$ норму ваг, помножену на коефіцієнт регуляризації $\\alpha$. У першому випадку метод називається Lasso, а в другому --- Ridge."
   ]
  },
  {
   "cell_type": "markdown",
   "metadata": {
    "id": "BuPkhT4Q3c1I"
   },
   "source": [
    "# Завдання 6\n",
    "Давайте спробуємо навчити лінійні моделі з L_1 і L_2-регуляризацією, а далі порівняємо їх ваги. Навчіть регресори Ridge і Lasso з параметрами за промовчанням і переконайтеся, що проблема з вагами вирішилася."
   ]
  },
  {
   "cell_type": "markdown",
   "metadata": {
    "id": "e2k6FDNZ3g8_"
   },
   "source": [
    "Навчіть лінійну модель з $L_1$-регуляризацією (клас Lasso) і виведіть ваги"
   ]
  },
  {
   "cell_type": "code",
   "execution_count": null,
   "metadata": {
    "id": "ftdU3I3j-IWg"
   },
   "outputs": [],
   "source": [
    "from sklearn.linear_model import Lasso, Ridge"
   ]
  },
  {
   "cell_type": "code",
   "execution_count": null,
   "metadata": {
    "colab": {
     "base_uri": "https://localhost:8080/"
    },
    "id": "2AoJVCNM9uKq",
    "outputId": "d26c34fe-9f1b-4a08-feac-3871a81559c2"
   },
   "outputs": [
    {
     "data": {
      "text/plain": [
       "[('season', 560.2416160308861),\n",
       " ('yr', 1019.4634940657196),\n",
       " ('mnth', -128.73062703678696),\n",
       " ('holiday', -86.15278133371106),\n",
       " ('weekday', 137.34789390496314),\n",
       " ('workingday', 55.21237064135668),\n",
       " ('weathersit', -332.3698569623487),\n",
       " ('temp', 376.3632362096943),\n",
       " ('atemp', 576.530793504555),\n",
       " ('hum', -144.12915500348583),\n",
       " ('windspeed(mph)', -197.1396894024843),\n",
       " ('windspeed(ms)', -2.8051404183533485e-08)]"
      ]
     },
     "execution_count": 13,
     "metadata": {},
     "output_type": "execute_result"
    }
   ],
   "source": [
    "lasso = Lasso().fit(X, y)\n",
    "[i for i in list(zip(df.columns, lasso.coef_))]"
   ]
  },
  {
   "cell_type": "markdown",
   "metadata": {
    "id": "CCjZ0P3d-QKD"
   },
   "source": [
    "Навчіть лінійну модель з $L_2$-регуляризацією (клас Ridge) і виведіть ваги"
   ]
  },
  {
   "cell_type": "code",
   "execution_count": null,
   "metadata": {
    "colab": {
     "base_uri": "https://localhost:8080/"
    },
    "id": "KB03yNIi-Qxu",
    "outputId": "89d04c76-9efe-475a-a9cf-62692134a93e"
   },
   "outputs": [
    {
     "data": {
      "text/plain": [
       "[('season', 563.0645722520181),\n",
       " ('yr', 1018.9483787875305),\n",
       " ('mnth', -131.87332028247718),\n",
       " ('holiday', -86.74609799709232),\n",
       " ('weekday', 138.00511117871918),\n",
       " ('workingday', 55.90311037506468),\n",
       " ('weathersit', -332.3497884990738),\n",
       " ('temp', 386.45788919190795),\n",
       " ('atemp', 566.347047060067),\n",
       " ('hum', -145.07132729867192),\n",
       " ('windspeed(mph)', -99.25944108176553),\n",
       " ('windspeed(ms)', -99.25944115436688)]"
      ]
     },
     "execution_count": 14,
     "metadata": {},
     "output_type": "execute_result"
    }
   ],
   "source": [
    "ridge = Ridge().fit(X, y)\n",
    "[i for i in list(zip(df.columns, ridge.coef_))]"
   ]
  },
  {
   "cell_type": "markdown",
   "metadata": {
    "id": "_dOD5EGz-0yZ"
   },
   "source": [
    "### Завдання 7\n",
    "\n",
    "На відміну від $L_2$-регуляризації, $L_1$ обнуляє ваги за деяких ознак Давайте поспостерігаємо, як змінюються ваги при збільшенні коефіцієнта регуляризації $\\alpha$."
   ]
  },
  {
   "cell_type": "markdown",
   "metadata": {
    "id": "EUxl70Qf-1ey"
   },
   "source": [
    "Для кожного значення коефіцієнта з `alphas` навчіть регресор `Lasso` і запишіть ваги список `coefs_lasso`, а потім навчіть `Ridge` і запишіть ваги в список `coefs_ridge'` Конвертуйте отримані списки в `np.array`."
   ]
  },
  {
   "cell_type": "code",
   "execution_count": null,
   "metadata": {
    "id": "Smd6ssXA_AvX"
   },
   "outputs": [],
   "source": [
    "alphas = np.arange(1, 500, 50)\n",
    "\n",
    "coefs_lasso = np.zeros((alphas.shape[0], X.shape[1]))\n",
    "coefs_ridge = np.zeros((alphas.shape[0], X.shape[1]))\n",
    "\n",
    "for index, a in enumerate(alphas):\n",
    "    lasso = Lasso(alpha=a)\n",
    "    lasso.fit(X, y)\n",
    "    coefs_lasso[index] = lasso.coef_\n",
    "\n",
    "for index, a in enumerate(alphas):\n",
    "    ridge = Ridge(alpha=a)\n",
    "    ridge.fit(X, y)\n",
    "    coefs_ridge[index] = ridge.coef_"
   ]
  },
  {
   "cell_type": "markdown",
   "metadata": {
    "id": "H-pIiIsuAMrb"
   },
   "source": [
    "Проаналізуйте динаміку ваги при збільшенні параметра регуляризації:"
   ]
  },
  {
   "cell_type": "code",
   "execution_count": null,
   "metadata": {
    "colab": {
     "base_uri": "https://localhost:8080/",
     "height": 683
    },
    "id": "ziybNsw_ANgJ",
    "outputId": "58a719fa-ad90-45ba-fe66-efd80bcdc3dc"
   },
   "outputs": [
    {
     "data": {
      "image/png": "[encoded data removed]",
      "text/plain": [
       "<Figure size 576x360 with 1 Axes>"
      ]
     },
     "metadata": {
      "needs_background": "light"
     },
     "output_type": "display_data"
    },
    {
     "data": {
      "image/png": "[encoded data removed]",
      "text/plain": [
       "<Figure size 576x360 with 1 Axes>"
      ]
     },
     "metadata": {
      "needs_background": "light"
     },
     "output_type": "display_data"
    }
   ],
   "source": [
    "plt.figure(figsize=(8, 5))\n",
    "\n",
    "for coef, feature in zip(coefs_lasso.T, df.columns):\n",
    "    plt.plot(alphas, coef, label=feature, color=np.random.rand(3))\n",
    "\n",
    "plt.legend(loc=\"upper right\", bbox_to_anchor=(1.4, 0.95))\n",
    "plt.xlabel(\"alpha\")\n",
    "plt.ylabel(\"feature weight\")\n",
    "plt.title(\"Lasso\")\n",
    "\n",
    "plt.figure(figsize=(8, 5))\n",
    "for coef, feature in zip(coefs_ridge.T, df.columns):\n",
    "    plt.plot(alphas, coef, label=feature, color=np.random.rand(3))\n",
    "\n",
    "plt.legend(loc=\"upper right\", bbox_to_anchor=(1.4, 0.95))\n",
    "plt.xlabel(\"alpha\")\n",
    "plt.ylabel(\"feature weight\")\n",
    "plt.title(\"Ridge\")\n",
    "\n",
    "plt.show()"
   ]
  },
  {
   "cell_type": "markdown",
   "metadata": {
    "id": "CSQfcYKIAXYv"
   },
   "source": [
    "Проаналізуйте графіки та дайте відповіді на такі запитання.\n",
    "\n",
    "1. Який регуляризатор (Ridge або Lasso) агресивніше зменшує ваги при тому самому alpha?\n",
    "1. Що станеться з вагами Lasso, якщо alpha зробити дуже великим? Поясніть чому так відбувається.\n",
    "1. Чи можна стверджувати, що `Lasso` виключає одну з ознак `windspeed` за будь-якого значення `alpha > 0`? А Ridge? Вважається, що регуляризатор виключає ознаку, якщо коефіцієнт за нього менше $10^{-3}$.\n",
    "1. Який із регуляризаторів підійде для відбору неінформативних ознак?"
   ]
  },
  {
   "cell_type": "markdown",
   "metadata": {
    "id": "6z8ugTQ3AehD"
   },
   "source": [
    "Відповіді:\n",
    "1.\n",
    "2.\n",
    "3.\n",
    "4.\n"
   ]
  },
  {
   "cell_type": "markdown",
   "metadata": {
    "id": "lCjFnpPIBwre"
   },
   "source": [
    "### Завдання 8\n",
    "\n",
    "Далі працюватимемо з `Lasso`.\n",
    "\n",
    "Отже, бачимо, що з зміні alpha модель по-різному підбирає коефіцієнти ознак. Нам потрібно вибрати найкраще alpha.\n",
    "\n",
    "Для цього, по-перше, нам потрібна метрика якості. Будемо використовувати як метрику функціонал методу найменших квадратів, що сам оптимізується, тобто `Mean Square Error`.\n",
    "\n",
    "По-друге, треба зрозуміти, на яких даних цю метрику рахувати. Не можна вибирати `alpha` за значенням MSE на навчальній вибірці, тому що тоді ми не …анія на нових для неї даних. Якщо ми виберемо одне розбиття вибірки на навчальну та тестову (це називається holdout), то налаштуємося на конкретні \"нові\" дані, і знову можемо перенавчитися. Тому будемо робити кілька розбиття вибірки, на кожному пробувати різні значення alpha, а потім усереднити MSE. Найзручніше робити такі розбиття крос-валідацією, тобто розділити вибірку на $K$ часто, і щоразу брати одну з них як тестову, а з блоків, що залишилися, складати навчальну вибірку."
   ]
  },
  {
   "cell_type": "markdown",
   "metadata": {
    "id": "pym2STTTCRQk"
   },
   "source": [
    "Робити крос-валідацію для регресії в sklearn дуже просто: для цього є спеціальний регресор, __LassoCV__, який бере на вхід список з alpha і кожного з них обчислює MSE на крос-валідації. Після навчання (якщо залишити параметр cv=3 за замовчуванням) регресор міститиме змінну __mse\\_path\\___, матрицю розміру len(alpha) x k, k = 3 (кількість блоків у крос-валідації), що містить значення MSE на тесті для відповідних запусків . Крім того, в змінній alpha\\_ буде зберігатися вибране значення параметра регуляризації, а coef\\_, традиційно, навчені ваги, відповідні цьому alpha_.\n",
    "\n",
    "Зверніть увагу, що регресор може змінювати порядок, в якому він проходить через alphas; Для порівняння з матрицею MSE краще використовувати змінну регресора alphas_."
   ]
  },
  {
   "cell_type": "markdown",
   "metadata": {
    "id": "Gjkwkwo0CfhF"
   },
   "source": [
    "Навчіть регресор `LassoCV` на всіх параметрах регуляризації з alpha. Побудуйте графік _усередненого_ за рядками `MSE` залежно від `alpha` (використовуйте для цього функцію `create_plot`).\n",
    "\n",
    "Виведіть вибране `alpha`, а також пари \"ознака-коефіцієнт\" для навченого вектора коефіцієнтів."
   ]
  },
  {
   "cell_type": "code",
   "execution_count": null,
   "metadata": {
    "id": "tNmFX9HCB2eZ"
   },
   "outputs": [],
   "source": [
    "def create_plot(data, title, xlabel, ylabel, figsize=None):\n",
    "    size = figsize or (15, 5)\n",
    "    plt.figure(figsize=size)\n",
    "\n",
    "    x = map(lambda e: e[0], data)\n",
    "    y = map(lambda e: e[1], data)\n",
    "    plt.plot(x, y)\n",
    "\n",
    "    plt.title(title)\n",
    "    plt.xlabel(xlabel)\n",
    "    plt.ylabel(ylabel)\n",
    "\n",
    "    plt.grid()\n",
    "    plt.show()"
   ]
  },
  {
   "cell_type": "code",
   "execution_count": null,
   "metadata": {
    "colab": {
     "base_uri": "https://localhost:8080/",
     "height": 644
    },
    "id": "YAq_o8hyCmA3",
    "outputId": "ce77cebd-0f19-40ea-b835-aeeceb42cc39"
   },
   "outputs": [
    {
     "data": {
      "image/png": "[encoded data removed]",
      "text/plain": [
       "<Figure size 1152x432 with 1 Axes>"
      ]
     },
     "metadata": {
      "needs_background": "light"
     },
     "output_type": "display_data"
    },
    {
     "name": "stdout",
     "output_type": "stream",
     "text": [
      "Alpha = 1\n"
     ]
    },
    {
     "data": {
      "text/plain": [
       "[('season', 560.2416160308861),\n",
       " ('yr', 1019.4634940657196),\n",
       " ('mnth', -128.73062703678696),\n",
       " ('holiday', -86.15278133371106),\n",
       " ('weekday', 137.34789390496314),\n",
       " ('workingday', 55.21237064135668),\n",
       " ('weathersit', -332.3698569623487),\n",
       " ('temp', 376.3632362096943),\n",
       " ('atemp', 576.530793504555),\n",
       " ('hum', -144.12915500348583),\n",
       " ('windspeed(mph)', -197.1396894024843),\n",
       " ('windspeed(ms)', -2.8051404183533485e-08)]"
      ]
     },
     "execution_count": 18,
     "metadata": {},
     "output_type": "execute_result"
    }
   ],
   "source": [
    "from sklearn.linear_model import LassoCV\n",
    "\n",
    "alphas = np.arange(1, 100, 5)\n",
    "\n",
    "regressor =  LassoCV(alphas=alphas).fit(X, y)\n",
    "\n",
    "mse = [i.mean() for i in regressor.mse_path_]\n",
    "\n",
    "plt.rcParams[\"figure.figsize\"] = (16, 6)\n",
    "plt.plot(regressor.alphas_, mse)\n",
    "plt.title('Графік MSE(alpha)', fontsize=20, color='g')\n",
    "plt.xlabel(\"alpha\", fontsize=20, color='g')\n",
    "plt.ylabel(\"mse\", fontsize=20, color='g')\n",
    "plt.grid()\n",
    "plt.show()\n",
    "\n",
    "print(f'Alpha = {regressor.alpha_}')\n",
    "[i for i in list(zip(df.columns, regressor.coef_))]"
   ]
  },
  {
   "cell_type": "markdown",
   "metadata": {
    "id": "tJ22KkjvJAWH"
   },
   "source": [
    "Отже, ми вибрали певний параметр регулювання. Давайте подивимося, які б ми вибирали alpha, якби ділили вибірку лише один раз на навчальну та тестову, тобто розглянемо траєкторії MSE, що відповідають окремим блокам вибірки."
   ]
  },
  {
   "cell_type": "markdown",
   "metadata": {
    "id": "-2XK-ntSJBZy"
   },
   "source": [
    "### Завдання 9\n",
    "\n",
    "Виведіть значення `alpha`, що відповідають мінімумам `MSE` на кожному розбиття (тобто по стовпцях).\n",
    "На трьох окремих графіках візуалізуйте стовпці `mse_path_`."
   ]
  },
  {
   "cell_type": "code",
   "execution_count": null,
   "metadata": {
    "colab": {
     "base_uri": "https://localhost:8080/",
     "height": 980
    },
    "id": "OLHZ8fb_vt34",
    "outputId": "68a08743-c370-403f-d2d6-3bdf9d9822bc"
   },
   "outputs": [
    {
     "name": "stdout",
     "output_type": "stream",
     "text": [
      "Alpha = 1, MSE = 691447.250787807\n",
      "Alpha = 11, MSE = 883471.1829425395\n",
      "Alpha = 1, MSE = 710110.1624117332\n",
      "Alpha = 26, MSE = 860737.405948872\n",
      "Alpha = 21, MSE = 750676.356779\n"
     ]
    },
    {
     "data": {
      "image/png": "[encoded data removed]",
      "text/plain": [
       "<Figure size 1152x1080 with 3 Axes>"
      ]
     },
     "metadata": {
      "needs_background": "light"
     },
     "output_type": "display_data"
    }
   ],
   "source": [
    "for i in range(3):\n",
    "    plt.rcParams[\"figure.figsize\"] = (16, 15)\n",
    "    plt.subplot(3, 1, i+1)\n",
    "    plt.plot(regressor.alphas_, regressor.mse_path_[:, i], c='g')\n",
    "    plt.title(f'MSE for split {i+1}')\n",
    "    plt.xlabel('alpha')\n",
    "    plt.ylabel('mse')\n",
    "    plt.grid()\n",
    "\n",
    "for alpha, mse in enumerate(np.min(regressor.mse_path_, axis=0)):\n",
    "    alpha_min = regressor.mse_path_[:, alpha].argmin(axis=0)\n",
    "    print(f'Alpha = {regressor.alphas_[alpha_min]}, MSE = {mse}')"
   ]
  },
  {
   "cell_type": "markdown",
   "metadata": {
    "id": "hqXUsIOtT8bH"
   },
   "source": [
    "На кожному розбиття оптимальне значення `alpha` своє, і йому відповідає велике MSE на інших розбиття. Виходить, що ми налаштовуємось на конкретні навчальні та контрольні вибірки. При виборі `alpha` на крос-валідації ми вибираємо щось \"середнє\", що даватиме прийнятне значення метрики на різних розбиття вибірки."
   ]
  },
  {
   "cell_type": "markdown",
   "metadata": {
    "id": "0OK1noHNT9eH"
   },
   "source": [
    "### Завдання 10\n",
    "\n",
    "Нарешті, як прийнято в аналізі даних, проінтерпретуємо результат. Дайте відповідь на наступні запитання."
   ]
  },
  {
   "cell_type": "markdown",
   "metadata": {
    "id": "hFZ3JtYcUCOb"
   },
   "source": [
    "#### Питання 1\n",
    "\n",
    "В останній навченій моделі виберіть 4 ознаки з найбільшими (позитивними) коефіцієнтами (і випишіть їх), подивіться на візуалізації залежностей cnt від цих ознак, які ми малювали в блоці \"Знайомство з даними\". Чи видно зростаючу лінійну залежність `cnt` від цих ознак за графіками? Чи логічно стверджувати (зі здорового глузду), що чим більше значення цих ознак, тим більше людей захочуть взяти велосипеди?"
   ]
  },
  {
   "cell_type": "markdown",
   "metadata": {
    "id": "FSdhPf_7UHMC"
   },
   "source": [
    "Відповідь:\n",
    "1. \n",
    "2."
   ]
  },
  {
   "cell_type": "code",
   "execution_count": null,
   "metadata": {
    "colab": {
     "base_uri": "https://localhost:8080/"
    },
    "id": "p9lrHINq5BSc",
    "outputId": "f1b84e91-11a1-46c0-c5ac-45989e4b6686"
   },
   "outputs": [],
   "source": [
    "#Додайте код, якщо потрібно"
   ]
  },
  {
   "cell_type": "markdown",
   "metadata": {
    "id": "HgoHPwZcUKNV"
   },
   "source": [
    "#### Питання 2\n",
    "\n",
    "Виберіть 3 ознаки з найбільшими за модулем негативними коефіцієнтами (і випишіть їх), подивіться відповідні візуалізації. Чи видно лінійну залежність, яка зменшується? Чи логічно стверджувати, що чим більша величина цих ознак, тим менше людей захочуть взяти велосипеди?"
   ]
  },
  {
   "cell_type": "markdown",
   "metadata": {
    "id": "kQQ0LqumUOW7"
   },
   "source": [
    "Відповідь:\n",
    "1. \n",
    "2. "
   ]
  },
  {
   "cell_type": "markdown",
   "metadata": {
    "colab": {
     "base_uri": "https://localhost:8080/"
    },
    "id": "cB56dc2f6Ilf",
    "outputId": "841f82f0-7a1d-47e7-e26b-60da35db842c"
   },
   "source": []
  },
  {
   "cell_type": "markdown",
   "metadata": {
    "id": "eCKmFYyfUQFb"
   },
   "source": [
    "#### Питання 3\n",
    "\n",
    "Випишіть ознаки з коефіцієнтами, близькими до нуля (<1e-3). Як ви вважаєте, чому модель виключила їх із моделі (знов подивіться на графіки)? Чи правда, що вони не впливають на попит на велосипеди?"
   ]
  },
  {
   "cell_type": "markdown",
   "metadata": {
    "id": "JIlLW3ITUTkH"
   },
   "source": [
    "Відповідь:\n",
    "1.\n",
    "2. "
   ]
  },
  {
   "cell_type": "code",
   "execution_count": null,
   "metadata": {
    "colab": {
     "base_uri": "https://localhost:8080/"
    },
    "id": "XFGgd51x74_B",
    "outputId": "5be12329-2f98-45b1-8389-5260ee33c607"
   },
   "outputs": [
    {
     "data": {
      "text/plain": [
       "[('windspeed(ms)', -2.8051404183533485e-08)]"
      ]
     },
     "execution_count": 22,
     "metadata": {},
     "output_type": "execute_result"
    }
   ],
   "source": [
    "#Додайте код"
   ]
  },
  {
   "cell_type": "markdown",
   "metadata": {
    "id": "8TWuyv4aUWOn"
   },
   "source": [
    "### Висновок\n",
    "напишіть висновок"
   ]
  },
  {
   "cell_type": "code",
   "execution_count": null,
   "metadata": {},
   "outputs": [],
   "source": []
  }
 ],
 "metadata": {
  "colab": {
   "provenance": []
  },
  "kernelspec": {
   "display_name": "Python 3 (ipykernel)",
   "language": "python",
   "name": "python3"
  },
  "language_info": {
   "codemirror_mode": {
    "name": "ipython",
    "version": 3
   },
   "file_extension": ".py",
   "mimetype": "text/x-python",
   "name": "python",
   "nbconvert_exporter": "python",
   "pygments_lexer": "ipython3",
   "version": "3.9.2"
  }
 },
 "nbformat": 4,
 "nbformat_minor": 1
}
