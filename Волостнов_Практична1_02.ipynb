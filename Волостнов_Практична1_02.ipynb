{
  "nbformat": 4,
  "nbformat_minor": 0,
  "metadata": {
    "colab": {
      "provenance": []
    },
    "kernelspec": {
      "name": "python3",
      "display_name": "Python 3"
    },
    "language_info": {
      "name": "python"
    }
  },
  "cells": [
    {
      "cell_type": "code",
      "source": [],
      "metadata": {
        "id": "ewx0PZOQYkPu"
      },
      "execution_count": null,
      "outputs": []
    },
    {
      "cell_type": "markdown",
      "source": [
        "Створіть одновимірний масив (вектор) з першими 20-ма натуральними числами та\n",
        "виведіть його значення."
      ],
      "metadata": {
        "id": "Y65TQchJYoa8"
      }
    },
    {
      "cell_type": "code",
      "execution_count": 3,
      "metadata": {
        "colab": {
          "base_uri": "https://localhost:8080/"
        },
        "id": "eMALGRCqYO9v",
        "outputId": "dab3d454-33e1-47ee-af88-60135b183961"
      },
      "outputs": [
        {
          "output_type": "stream",
          "name": "stdout",
          "text": [
            "[1, 2, 3, 4, 5, 6, 7, 8, 9, 10, 11, 12, 13, 14, 15, 16, 17, 18, 19, 20]\n"
          ]
        }
      ],
      "source": [
        "naturals = list(range(1, 21))\n",
        "\n",
        "print(naturals)"
      ]
    },
    {
      "cell_type": "markdown",
      "source": [
        "Створіть двовимірний масив (матрицю) розміром 3x3, заповніть його випадковими\n",
        "натуральними числами та виведіть його значення"
      ],
      "metadata": {
        "id": "vGauLXWRY_TE"
      }
    },
    {
      "cell_type": "code",
      "source": [
        "import numpy as np\n",
        "\n",
        "matrix = np.random.randint(1, 100, size=(3, 3))\n",
        "\n",
        "print(matrix)"
      ],
      "metadata": {
        "colab": {
          "base_uri": "https://localhost:8080/"
        },
        "id": "yBiqtSTvZB8h",
        "outputId": "32dcd48e-9618-43e4-c086-efa24a21886c"
      },
      "execution_count": 4,
      "outputs": [
        {
          "output_type": "stream",
          "name": "stdout",
          "text": [
            "[[66 37 39]\n",
            " [44  7 54]\n",
            " [60 13 60]]\n"
          ]
        }
      ]
    },
    {
      "cell_type": "markdown",
      "source": [
        "Створіть масив розміром 5x5, заповніть його випадковими дійсними числами в діапазоні від -1 до 1 та виведіть його значення."
      ],
      "metadata": {
        "id": "T93puMt_ZmP9"
      }
    },
    {
      "cell_type": "code",
      "source": [
        "import numpy as np\n",
        "\n",
        "\n",
        "matrix = np.random.uniform(-1, 1, size=(5, 5))\n",
        "\n",
        "print(matrix)\n"
      ],
      "metadata": {
        "colab": {
          "base_uri": "https://localhost:8080/"
        },
        "id": "33hdbPUZZnom",
        "outputId": "01e3256c-9604-4c8d-b025-64d3c8690117"
      },
      "execution_count": 5,
      "outputs": [
        {
          "output_type": "stream",
          "name": "stdout",
          "text": [
            "[[-0.77205953 -0.79489227  0.33438719  0.88185713  0.63394395]\n",
            " [ 0.35343192 -0.21667987  0.24156035  0.02298966 -0.4953441 ]\n",
            " [-0.1886445   0.41537264  0.15595817 -0.0100048   0.18227039]\n",
            " [-0.75004043 -0.09344389 -0.02798375 -0.42982537  0.07909335]\n",
            " [ 0.03735811 -0.0227273  -0.04372314 -0.64674303  0.23970519]]\n"
          ]
        }
      ]
    },
    {
      "cell_type": "markdown",
      "source": [
        "Створіть масив розміром 5x5, заповніть його випадковими дійсними числами в діапазоні від 0 до 1 та знайдіть середнє значення елементів."
      ],
      "metadata": {
        "id": "GweCvnxMZxMt"
      }
    },
    {
      "cell_type": "code",
      "source": [
        "import numpy as np\n",
        "\n",
        "matrix = np.random.rand(5, 5)\n",
        "\n",
        "average_value = np.mean(matrix)\n",
        "\n",
        "print(\"Матриця:\")\n",
        "print(matrix)\n",
        "print(\"Середнє значення елементів:\", average_value)\n"
      ],
      "metadata": {
        "colab": {
          "base_uri": "https://localhost:8080/"
        },
        "id": "Ny6ByNR1Z9ir",
        "outputId": "47f00c36-3c75-4d0f-abf7-27df0241a2aa"
      },
      "execution_count": 6,
      "outputs": [
        {
          "output_type": "stream",
          "name": "stdout",
          "text": [
            "Матриця:\n",
            "[[0.55142111 0.71177434 0.43070152 0.63847653 0.98296967]\n",
            " [0.0796306  0.55249915 0.7577971  0.20069759 0.34617204]\n",
            " [0.87262978 0.61151947 0.05393815 0.73733125 0.90409856]\n",
            " [0.60451403 0.57427281 0.44870566 0.44263834 0.37433765]\n",
            " [0.450171   0.63460956 0.16736449 0.87167022 0.06992362]]\n",
            "Середнє значення елементів: 0.5227945695838087\n"
          ]
        }
      ]
    },
    {
      "cell_type": "markdown",
      "source": [
        "Створіть два одновимірних масиви розміром 5, заповніть їх випадковими цілими числами в діапазоні від -10 до 10 та виконайте на них поелементні операції"
      ],
      "metadata": {
        "id": "3_NqaJaSaA9F"
      }
    },
    {
      "cell_type": "code",
      "source": [
        "import numpy as np\n",
        "\n",
        "array1 = np.random.randint(-10, 11, size=5)\n",
        "array2 = np.random.randint(-10, 11, size=5)\n",
        "\n",
        "print(\"Масив 1:\", array1)\n",
        "print(\"Масив 2:\", array2)\n",
        "\n",
        "sum_result = array1 + array2\n",
        "print(\"Результат додавання:\", sum_result)\n",
        "\n",
        "subtract_result = array1 - array2\n",
        "print(\"Результат віднімання:\", subtract_result)\n",
        "\n",
        "multiply_result = array1 * array2\n",
        "print(\"Результат множення:\", multiply_result)\n",
        "\n",
        "array2_nonzero = np.where(array2 == 0, 1, array2)\n",
        "divide_result = array1 / array2_nonzero\n",
        "print(\"Результат ділення:\", divide_result)\n"
      ],
      "metadata": {
        "colab": {
          "base_uri": "https://localhost:8080/"
        },
        "id": "1nUf-S-zaD_F",
        "outputId": "d4f22984-7adf-4fa2-db73-a21d16b7f574"
      },
      "execution_count": 7,
      "outputs": [
        {
          "output_type": "stream",
          "name": "stdout",
          "text": [
            "Масив 1: [ -1 -10   0  -5  -2]\n",
            "Масив 2: [ -6 -10  -1   5  -3]\n",
            "Результат додавання: [ -7 -20  -1   0  -5]\n",
            "Результат віднімання: [  5   0   1 -10   1]\n",
            "Результат множення: [  6 100   0 -25   6]\n",
            "Результат ділення: [ 0.16666667  1.         -0.         -1.          0.66666667]\n"
          ]
        }
      ]
    },
    {
      "cell_type": "markdown",
      "source": [
        "Створіть два вектори розміром 6, заповніть їх довільними дійсними числами та знайдіть їх скалярний добуток."
      ],
      "metadata": {
        "id": "_TrIYjByaS4e"
      }
    },
    {
      "cell_type": "code",
      "source": [
        "import numpy as np\n",
        "\n",
        "vector1 = np.random.rand(6)  # Вектор 1\n",
        "vector2 = np.random.rand(6)  # Вектор 2\n",
        "\n",
        "dot_product = np.dot(vector1, vector2)\n",
        "\n",
        "print(\"Вектор 1:\", vector1)\n",
        "print(\"Вектор 2:\", vector2)\n",
        "print(\"Скалярний добуток:\", dot_product)\n"
      ],
      "metadata": {
        "colab": {
          "base_uri": "https://localhost:8080/"
        },
        "id": "m31GeAH2abvx",
        "outputId": "1ca58dd7-1b72-4f67-e547-93fea2c30067"
      },
      "execution_count": 8,
      "outputs": [
        {
          "output_type": "stream",
          "name": "stdout",
          "text": [
            "Вектор 1: [0.20356141 0.6423176  0.43662787 0.37705743 0.60564502 0.68203787]\n",
            "Вектор 2: [0.13768892 0.59706267 0.47025556 0.40235326 0.56207373 0.35561041]\n",
            "Скалярний добуток: 1.3515258992289845\n"
          ]
        }
      ]
    },
    {
      "cell_type": "markdown",
      "source": [
        "Створіть дві матриці розміром 2x3 та 3x2, заповніть їх випадковими цілими числами в діапазоні від 1 до 15 та перемножте їх між собою."
      ],
      "metadata": {
        "id": "HfZ_4KClajI9"
      }
    },
    {
      "cell_type": "code",
      "source": [
        "import numpy as np\n",
        "\n",
        "matrix1 = np.random.randint(1, 16, size=(2, 3))\n",
        "matrix2 = np.random.randint(1, 16, size=(3, 2))\n",
        "\n",
        "print(\"Матриця 1:\")\n",
        "print(matrix1)\n",
        "print(\"Матриця 2:\")\n",
        "print(matrix2)\n",
        "\n",
        "result_matrix = np.dot(matrix1, matrix2)\n",
        "\n",
        "print(\"Результат перемноження:\")\n",
        "print(result_matrix)\n"
      ],
      "metadata": {
        "colab": {
          "base_uri": "https://localhost:8080/"
        },
        "id": "L9MgWs6gaqho",
        "outputId": "76cc38ae-b5ac-4a85-cb57-2bcc86ad51f6"
      },
      "execution_count": 9,
      "outputs": [
        {
          "output_type": "stream",
          "name": "stdout",
          "text": [
            "Матриця 1:\n",
            "[[11 13  9]\n",
            " [14  8  2]]\n",
            "Матриця 2:\n",
            "[[ 7  5]\n",
            " [10  1]\n",
            " [ 2  5]]\n",
            "Результат перемноження:\n",
            "[[225 113]\n",
            " [182  88]]\n"
          ]
        }
      ]
    },
    {
      "cell_type": "markdown",
      "source": [
        "Створіть матрицю розміром 3x3, заповніть її випадковими цілими числами в діапазоні від 1 до 12 та знайдіть її обернену матрицю.\n"
      ],
      "metadata": {
        "id": "EjwjuaGjaxFH"
      }
    },
    {
      "cell_type": "code",
      "source": [
        "import numpy as np\n",
        "\n",
        "matrix = np.random.randint(1, 13, size=(3, 3))\n",
        "\n",
        "print(\"Початкова матриця:\")\n",
        "print(matrix)\n",
        "\n",
        "try:\n",
        "    inverse_matrix = np.linalg.inv(matrix)\n",
        "    print(\"Обернена матриця:\")\n",
        "    print(inverse_matrix)\n",
        "except np.linalg.LinAlgError:\n",
        "    print(\" Матриця не має оберненої матриці.\")\n"
      ],
      "metadata": {
        "colab": {
          "base_uri": "https://localhost:8080/"
        },
        "id": "b6VMQR8razni",
        "outputId": "b33febaf-a306-490c-844b-15f82c02ae05"
      },
      "execution_count": 10,
      "outputs": [
        {
          "output_type": "stream",
          "name": "stdout",
          "text": [
            "Початкова матриця:\n",
            "[[ 3  8  2]\n",
            " [11  3  4]\n",
            " [ 6 11  8]]\n",
            "Обернена матриця:\n",
            "[[ 0.05464481  0.1147541  -0.07103825]\n",
            " [ 0.17486339 -0.03278689 -0.0273224 ]\n",
            " [-0.28142077 -0.04098361  0.21584699]]\n"
          ]
        }
      ]
    },
    {
      "cell_type": "markdown",
      "source": [
        "Створіть матрицю розміром 4x4, заповніть її випадковими дійсними числами в діапазоні від -8 до 8 та транспонуйте її"
      ],
      "metadata": {
        "id": "WPHrhShLa9W4"
      }
    },
    {
      "cell_type": "code",
      "source": [
        "import numpy as np\n",
        "\n",
        "matrix = np.random.uniform(-8, 8, size=(4, 4))\n",
        "\n",
        "print(\"Початкова матриця:\")\n",
        "print(matrix)\n",
        "\n",
        "transposed_matrix = np.transpose(matrix)\n",
        "\n",
        "print(\"Транспонована матриця:\")\n",
        "print(transposed_matrix)\n"
      ],
      "metadata": {
        "colab": {
          "base_uri": "https://localhost:8080/"
        },
        "id": "LfxDnVkAbAME",
        "outputId": "348e96e3-d27f-499f-856a-9e43b0c28c34"
      },
      "execution_count": 11,
      "outputs": [
        {
          "output_type": "stream",
          "name": "stdout",
          "text": [
            "Початкова матриця:\n",
            "[[-5.62298457  2.34884068  3.75884264 -6.54471915]\n",
            " [ 0.56377711 -5.73391331  1.37348859 -0.68402725]\n",
            " [-2.06970308 -2.67989701  6.04867941 -5.86647866]\n",
            " [ 1.45705533  3.8163572   3.90248428 -1.4708937 ]]\n",
            "Транспонована матриця:\n",
            "[[-5.62298457  0.56377711 -2.06970308  1.45705533]\n",
            " [ 2.34884068 -5.73391331 -2.67989701  3.8163572 ]\n",
            " [ 3.75884264  1.37348859  6.04867941  3.90248428]\n",
            " [-6.54471915 -0.68402725 -5.86647866 -1.4708937 ]]\n"
          ]
        }
      ]
    },
    {
      "cell_type": "markdown",
      "source": [
        "Створіть матрицю розміром 3x4 та вектор розміром 4, заповніть їх випадковими цілими числами в діапазоні від 1 до 10 та знайдіть середнє значення елементів матриці."
      ],
      "metadata": {
        "id": "Jx9HLlFhbM3o"
      }
    },
    {
      "cell_type": "code",
      "source": [
        "import numpy as np\n",
        "\n",
        "matrix = np.random.randint(1, 11, size=(3, 4))\n",
        "\n",
        "vector = np.random.randint(1, 11, size=4)\n",
        "\n",
        "print(\"Матриця:\")\n",
        "print(matrix)\n",
        "print(\"Вектор:\")\n",
        "print(vector)\n",
        "\n",
        "average_value = np.mean(matrix)\n",
        "\n",
        "print(\"Середнє значення елементів:\", average_value)\n"
      ],
      "metadata": {
        "colab": {
          "base_uri": "https://localhost:8080/"
        },
        "id": "mxvmkGgHbPb4",
        "outputId": "f69392ce-dc05-48a1-9908-97ffa5620025"
      },
      "execution_count": 12,
      "outputs": [
        {
          "output_type": "stream",
          "name": "stdout",
          "text": [
            "Матриця:\n",
            "[[ 9  8  9  6]\n",
            " [ 4  8  6  5]\n",
            " [ 3 10 10  7]]\n",
            "Вектор:\n",
            "[ 4  1  7 10]\n",
            "Середнє значення елементів: 7.083333333333333\n"
          ]
        }
      ]
    },
    {
      "cell_type": "markdown",
      "source": [
        "Створіть матрицю розміром 2x3 та вектор розміром 3, заповніть матрицю випадковими цілими числами в діапазоні від 1 до 10, а вектор - випадковими дійсними числами від 0 до 1, і знайдіть добуток матриці на вектор."
      ],
      "metadata": {
        "id": "5zNbDWB4bjLx"
      }
    },
    {
      "cell_type": "code",
      "source": [
        "import numpy as np\n",
        "\n",
        "matrix = np.random.randint(1, 11, size=(2, 3))\n",
        "\n",
        "vector = np.random.uniform(0, 1, size=3)\n",
        "\n",
        "print(\"Матриця:\")\n",
        "print(matrix)\n",
        "print(\"Вектор:\")\n",
        "print(vector)\n",
        "\n",
        "product = np.dot(matrix, vector)\n",
        "\n",
        "print(\"Результат добутку матриці на вектор:\")\n",
        "print(product)\n"
      ],
      "metadata": {
        "colab": {
          "base_uri": "https://localhost:8080/"
        },
        "id": "LEtMsVH7bkBg",
        "outputId": "cca3fed8-8d41-474c-dc0a-233e7a9c9466"
      },
      "execution_count": 13,
      "outputs": [
        {
          "output_type": "stream",
          "name": "stdout",
          "text": [
            "Матриця:\n",
            "[[7 4 3]\n",
            " [5 3 8]]\n",
            "Вектор:\n",
            "[0.73672402 0.71453992 0.83119905]\n",
            "Результат добутку матриці на вектор:\n",
            "[10.50882496 12.47683223]\n"
          ]
        }
      ]
    },
    {
      "cell_type": "markdown",
      "source": [
        "Створіть дві матриці розміром 3x3, заповніть їх випадковими цілими числами в діапазоні від 1 до 10 та знайдіть їхню різницю."
      ],
      "metadata": {
        "id": "upRi5yGKb7A4"
      }
    },
    {
      "cell_type": "code",
      "source": [
        "import numpy as np\n",
        "\n",
        "matrix1 = np.random.randint(1, 11, size=(3, 3))\n",
        "\n",
        "matrix2 = np.random.randint(1, 11, size=(3, 3))\n",
        "\n",
        "print(\"Перша матриця:\")\n",
        "print(matrix1)\n",
        "print(\"Друга матриця:\")\n",
        "print(matrix2)\n",
        "\n",
        "difference_matrix = matrix1 - matrix2\n",
        "\n",
        "print(\"Різниця між матрицями:\")\n",
        "print(difference_matrix)\n"
      ],
      "metadata": {
        "colab": {
          "base_uri": "https://localhost:8080/"
        },
        "id": "MGxWrm2gb7q4",
        "outputId": "e9f8724f-c436-45aa-ab9b-0d3e74133077"
      },
      "execution_count": 14,
      "outputs": [
        {
          "output_type": "stream",
          "name": "stdout",
          "text": [
            "Перша матриця:\n",
            "[[ 7  3  7]\n",
            " [ 8 10  3]\n",
            " [ 6  6  1]]\n",
            "Друга матриця:\n",
            "[[8 8 5]\n",
            " [7 6 3]\n",
            " [1 2 7]]\n",
            "Різниця між матрицями:\n",
            "[[-1 -5  2]\n",
            " [ 1  4  0]\n",
            " [ 5  4 -6]]\n"
          ]
        }
      ]
    },
    {
      "cell_type": "markdown",
      "source": [
        "Створіть дві матриці розміром 3x3, заповніть їх випадковими цілими числами в діапазоні від -5 до 5 та знайдіть їх добуток."
      ],
      "metadata": {
        "id": "iXmyFxW1cJmh"
      }
    },
    {
      "cell_type": "code",
      "source": [
        "import numpy as np\n",
        "\n",
        "matrix1 = np.random.randint(-5, 6, size=(3, 3))\n",
        "\n",
        "matrix2 = np.random.randint(-5, 6, size=(3, 3))\n",
        "\n",
        "print(\"Перша матриця:\")\n",
        "print(matrix1)\n",
        "print(\"Друга матриця:\")\n",
        "print(matrix2)\n",
        "\n",
        "product_matrix = np.dot(matrix1, matrix2)\n",
        "\n",
        "print(\"Добуток матриць:\")\n",
        "print(product_matrix)\n"
      ],
      "metadata": {
        "colab": {
          "base_uri": "https://localhost:8080/"
        },
        "id": "TbvITy_xcMW_",
        "outputId": "12c66530-895f-4ebc-cc0c-af0558fea0f6"
      },
      "execution_count": 15,
      "outputs": [
        {
          "output_type": "stream",
          "name": "stdout",
          "text": [
            "Перша матриця:\n",
            "[[ 0 -5  4]\n",
            " [ 1 -4  4]\n",
            " [-3  0  1]]\n",
            "Друга матриця:\n",
            "[[ 5  0  0]\n",
            " [-5 -3 -5]\n",
            " [ 3 -2  1]]\n",
            "Добуток матриць:\n",
            "[[ 37   7  29]\n",
            " [ 37   4  24]\n",
            " [-12  -2   1]]\n"
          ]
        }
      ]
    },
    {
      "cell_type": "markdown",
      "source": [
        "Створіть матрицю розміром 6x6, заповніть її випадковими цілими числами в діапазоні від -50 до 50 та знайдіть суму елементів матриці."
      ],
      "metadata": {
        "id": "adhDTm33cWUc"
      }
    },
    {
      "cell_type": "code",
      "source": [
        "import numpy as np\n",
        "\n",
        "matrix = np.random.randint(-50, 51, size=(6, 6))\n",
        "\n",
        "print(\"Матриця:\")\n",
        "print(matrix)\n",
        "\n",
        "sum_elements = np.sum(matrix)\n",
        "\n",
        "print(\"Сума елементів матриці:\", sum_elements)\n"
      ],
      "metadata": {
        "colab": {
          "base_uri": "https://localhost:8080/"
        },
        "id": "B1JAQ8hFcW9p",
        "outputId": "69e79dc9-1fb0-407a-c0a6-e40d3261c2f1"
      },
      "execution_count": 16,
      "outputs": [
        {
          "output_type": "stream",
          "name": "stdout",
          "text": [
            "Матриця:\n",
            "[[-21   2  23   6  -7  43]\n",
            " [-38 -31  35  34  50  30]\n",
            " [  7  25  31 -34  -4  44]\n",
            " [ 42  16  -6  25 -13  48]\n",
            " [-10   7  48   3  35 -28]\n",
            " [-16  10  30 -16   0  28]]\n",
            "Сума елементів матриці: 398\n"
          ]
        }
      ]
    },
    {
      "cell_type": "markdown",
      "source": [
        "Створіть матрицю розміром 4x4, заповніть її випадковими дійсними числами в діапазоні від 0 до 1 та знайдіть вектор-стовпчик, що містить добуток елементів кожного рядка матриці. `\n",
        "\n",
        "\n",
        "\n"
      ],
      "metadata": {
        "id": "36JcURSJceUt"
      }
    },
    {
      "cell_type": "code",
      "source": [
        "import numpy as np\n",
        "\n",
        "matrix = np.random.rand(4, 4)\n",
        "\n",
        "print(\"Матриця:\")\n",
        "print(matrix)\n",
        "\n",
        "product_vector = np.prod(matrix, axis=1)\n",
        "\n",
        "product_vector = product_vector.reshape(-1, 1)\n",
        "\n",
        "print(\"Вектор-стовпчик з добутками рядків :\")\n",
        "print(product_vector)\n"
      ],
      "metadata": {
        "colab": {
          "base_uri": "https://localhost:8080/"
        },
        "id": "ZwbYeAxBcj6r",
        "outputId": "379ac636-bac4-48ab-bf11-cc8f9c431e45"
      },
      "execution_count": 18,
      "outputs": [
        {
          "output_type": "stream",
          "name": "stdout",
          "text": [
            "Матриця:\n",
            "[[0.88307186 0.71119738 0.05626875 0.24734764]\n",
            " [0.95043709 0.28858131 0.31271806 0.9476183 ]\n",
            " [0.03320558 0.88789252 0.23593401 0.49711357]\n",
            " [0.72324131 0.14441118 0.9288942  0.59270372]]\n",
            "Вектор-стовпчик з добутками рядків :\n",
            "[[0.008741  ]\n",
            " [0.08127893]\n",
            " [0.00345794]\n",
            " [0.05750266]]\n"
          ]
        }
      ]
    },
    {
      "cell_type": "markdown",
      "source": [
        " Ми вивчили, як створювати одновимірні та двовимірні масиви (вектори і матриці) у мові програмування Python за допомогою бібліотеки NumPy.\n",
        "\n",
        "  навчилися заповнювати масиви та матриці випадковими числами в певному діапазоні за допомогою функцій NumPy, таких як np.random.randint() та np.random.rand().\n",
        "\n",
        " виконали різні математичні операції з масивами і матрицями, такі як додавання, віднімання, множення, знаходження суми, середнього значення, добутку елементів рядків тощо.\n",
        "\n",
        "навчилися знаходити обернені матриці за допомогою бібліотеки NumPy.\n",
        "\n",
        "вивчили, як виконувати різні операції з векторами і матрицями, такі як знаходження скалярного добутку, транспонування, знаходження вектора-стовпчика і багато інших.\n",
        "\n",
        "ознайомилися з бібліотекою NumPy, яка надає потужні інструменти для обробки числових даних у Python."
      ],
      "metadata": {
        "id": "5CZmS18qevv7"
      }
    },
    {
      "cell_type": "code",
      "source": [],
      "metadata": {
        "id": "d3QM4DdNevQH"
      },
      "execution_count": null,
      "outputs": []
    }
  ]
}