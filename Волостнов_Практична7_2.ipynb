{
  "nbformat": 4,
  "nbformat_minor": 0,
  "metadata": {
    "colab": {
      "provenance": []
    },
    "kernelspec": {
      "name": "python3",
      "display_name": "Python 3"
    },
    "language_info": {
      "name": "python"
    }
  },
  "cells": [
    {
      "cell_type": "code",
      "execution_count": null,
      "metadata": {
        "id": "DiS0_2oIvS5a"
      },
      "outputs": [],
      "source": [
        "import pandas as pd\n",
        "from sklearn.preprocessing import StandardScaler\n",
        "from sklearn.cluster import KMeans\n",
        "import matplotlib.pyplot as plt\n",
        "from sklearn.decomposition import PCA\n",
        "\n"
      ]
    },
    {
      "cell_type": "markdown",
      "source": [
        "Загрузити датасет, що містить інформацію про відвідуваність музеїв в різні роки."
      ],
      "metadata": {
        "id": "c4vSc5UewDix"
      }
    },
    {
      "cell_type": "code",
      "source": [
        "from google.colab import files\n",
        "\n",
        "\n",
        "\n",
        "uploaded = files.upload()\n",
        "\n",
        "\n",
        "file_name = \"museum_visitors.csv\"\n",
        "\n",
        "\n",
        "data = pd.read_csv(file_name, encoding='cp1251')\n"
      ],
      "metadata": {
        "colab": {
          "base_uri": "https://localhost:8080/",
          "height": 71
        },
        "id": "bLqaC3BFvzkP",
        "outputId": "db8cd914-2fea-47d5-8277-1064f980ca7f"
      },
      "execution_count": null,
      "outputs": [
        {
          "output_type": "display_data",
          "data": {
            "text/plain": [
              "<IPython.core.display.HTML object>"
            ],
            "text/html": [
              "\n",
              "     <input type=\"file\" id=\"files-abb49915-2d3c-4cc9-bab4-6441e5623974\" name=\"files[]\" multiple disabled\n",
              "        style=\"border:none\" />\n",
              "     <output id=\"result-abb49915-2d3c-4cc9-bab4-6441e5623974\">\n",
              "      Upload widget is only available when the cell has been executed in the\n",
              "      current browser session. Please rerun this cell to enable.\n",
              "      </output>\n",
              "      <script>// Copyright 2017 Google LLC\n",
              "//\n",
              "// Licensed under the Apache License, Version 2.0 (the \"License\");\n",
              "// you may not use this file except in compliance with the License.\n",
              "// You may obtain a copy of the License at\n",
              "//\n",
              "//      http://www.apache.org/licenses/LICENSE-2.0\n",
              "//\n",
              "// Unless required by applicable law or agreed to in writing, software\n",
              "// distributed under the License is distributed on an \"AS IS\" BASIS,\n",
              "// WITHOUT WARRANTIES OR CONDITIONS OF ANY KIND, either express or implied.\n",
              "// See the License for the specific language governing permissions and\n",
              "// limitations under the License.\n",
              "\n",
              "/**\n",
              " * @fileoverview Helpers for google.colab Python module.\n",
              " */\n",
              "(function(scope) {\n",
              "function span(text, styleAttributes = {}) {\n",
              "  const element = document.createElement('span');\n",
              "  element.textContent = text;\n",
              "  for (const key of Object.keys(styleAttributes)) {\n",
              "    element.style[key] = styleAttributes[key];\n",
              "  }\n",
              "  return element;\n",
              "}\n",
              "\n",
              "// Max number of bytes which will be uploaded at a time.\n",
              "const MAX_PAYLOAD_SIZE = 100 * 1024;\n",
              "\n",
              "function _uploadFiles(inputId, outputId) {\n",
              "  const steps = uploadFilesStep(inputId, outputId);\n",
              "  const outputElement = document.getElementById(outputId);\n",
              "  // Cache steps on the outputElement to make it available for the next call\n",
              "  // to uploadFilesContinue from Python.\n",
              "  outputElement.steps = steps;\n",
              "\n",
              "  return _uploadFilesContinue(outputId);\n",
              "}\n",
              "\n",
              "// This is roughly an async generator (not supported in the browser yet),\n",
              "// where there are multiple asynchronous steps and the Python side is going\n",
              "// to poll for completion of each step.\n",
              "// This uses a Promise to block the python side on completion of each step,\n",
              "// then passes the result of the previous step as the input to the next step.\n",
              "function _uploadFilesContinue(outputId) {\n",
              "  const outputElement = document.getElementById(outputId);\n",
              "  const steps = outputElement.steps;\n",
              "\n",
              "  const next = steps.next(outputElement.lastPromiseValue);\n",
              "  return Promise.resolve(next.value.promise).then((value) => {\n",
              "    // Cache the last promise value to make it available to the next\n",
              "    // step of the generator.\n",
              "    outputElement.lastPromiseValue = value;\n",
              "    return next.value.response;\n",
              "  });\n",
              "}\n",
              "\n",
              "/**\n",
              " * Generator function which is called between each async step of the upload\n",
              " * process.\n",
              " * @param {string} inputId Element ID of the input file picker element.\n",
              " * @param {string} outputId Element ID of the output display.\n",
              " * @return {!Iterable<!Object>} Iterable of next steps.\n",
              " */\n",
              "function* uploadFilesStep(inputId, outputId) {\n",
              "  const inputElement = document.getElementById(inputId);\n",
              "  inputElement.disabled = false;\n",
              "\n",
              "  const outputElement = document.getElementById(outputId);\n",
              "  outputElement.innerHTML = '';\n",
              "\n",
              "  const pickedPromise = new Promise((resolve) => {\n",
              "    inputElement.addEventListener('change', (e) => {\n",
              "      resolve(e.target.files);\n",
              "    });\n",
              "  });\n",
              "\n",
              "  const cancel = document.createElement('button');\n",
              "  inputElement.parentElement.appendChild(cancel);\n",
              "  cancel.textContent = 'Cancel upload';\n",
              "  const cancelPromise = new Promise((resolve) => {\n",
              "    cancel.onclick = () => {\n",
              "      resolve(null);\n",
              "    };\n",
              "  });\n",
              "\n",
              "  // Wait for the user to pick the files.\n",
              "  const files = yield {\n",
              "    promise: Promise.race([pickedPromise, cancelPromise]),\n",
              "    response: {\n",
              "      action: 'starting',\n",
              "    }\n",
              "  };\n",
              "\n",
              "  cancel.remove();\n",
              "\n",
              "  // Disable the input element since further picks are not allowed.\n",
              "  inputElement.disabled = true;\n",
              "\n",
              "  if (!files) {\n",
              "    return {\n",
              "      response: {\n",
              "        action: 'complete',\n",
              "      }\n",
              "    };\n",
              "  }\n",
              "\n",
              "  for (const file of files) {\n",
              "    const li = document.createElement('li');\n",
              "    li.append(span(file.name, {fontWeight: 'bold'}));\n",
              "    li.append(span(\n",
              "        `(${file.type || 'n/a'}) - ${file.size} bytes, ` +\n",
              "        `last modified: ${\n",
              "            file.lastModifiedDate ? file.lastModifiedDate.toLocaleDateString() :\n",
              "                                    'n/a'} - `));\n",
              "    const percent = span('0% done');\n",
              "    li.appendChild(percent);\n",
              "\n",
              "    outputElement.appendChild(li);\n",
              "\n",
              "    const fileDataPromise = new Promise((resolve) => {\n",
              "      const reader = new FileReader();\n",
              "      reader.onload = (e) => {\n",
              "        resolve(e.target.result);\n",
              "      };\n",
              "      reader.readAsArrayBuffer(file);\n",
              "    });\n",
              "    // Wait for the data to be ready.\n",
              "    let fileData = yield {\n",
              "      promise: fileDataPromise,\n",
              "      response: {\n",
              "        action: 'continue',\n",
              "      }\n",
              "    };\n",
              "\n",
              "    // Use a chunked sending to avoid message size limits. See b/62115660.\n",
              "    let position = 0;\n",
              "    do {\n",
              "      const length = Math.min(fileData.byteLength - position, MAX_PAYLOAD_SIZE);\n",
              "      const chunk = new Uint8Array(fileData, position, length);\n",
              "      position += length;\n",
              "\n",
              "      const base64 = btoa(String.fromCharCode.apply(null, chunk));\n",
              "      yield {\n",
              "        response: {\n",
              "          action: 'append',\n",
              "          file: file.name,\n",
              "          data: base64,\n",
              "        },\n",
              "      };\n",
              "\n",
              "      let percentDone = fileData.byteLength === 0 ?\n",
              "          100 :\n",
              "          Math.round((position / fileData.byteLength) * 100);\n",
              "      percent.textContent = `${percentDone}% done`;\n",
              "\n",
              "    } while (position < fileData.byteLength);\n",
              "  }\n",
              "\n",
              "  // All done.\n",
              "  yield {\n",
              "    response: {\n",
              "      action: 'complete',\n",
              "    }\n",
              "  };\n",
              "}\n",
              "\n",
              "scope.google = scope.google || {};\n",
              "scope.google.colab = scope.google.colab || {};\n",
              "scope.google.colab._files = {\n",
              "  _uploadFiles,\n",
              "  _uploadFilesContinue,\n",
              "};\n",
              "})(self);\n",
              "</script> "
            ]
          },
          "metadata": {}
        },
        {
          "output_type": "stream",
          "name": "stdout",
          "text": [
            "Saving museum_visitors.csv to museum_visitors.csv\n"
          ]
        }
      ]
    },
    {
      "cell_type": "markdown",
      "source": [
        "Вивести перші 5 рядків датасету."
      ],
      "metadata": {
        "id": "FA0NU7INySIQ"
      }
    },
    {
      "cell_type": "code",
      "source": [
        "data.head(5)"
      ],
      "metadata": {
        "colab": {
          "base_uri": "https://localhost:8080/",
          "height": 206
        },
        "id": "twNLHDg1yT5Z",
        "outputId": "d9e6d417-70ea-4e1b-9fab-6c73496e87b3"
      },
      "execution_count": null,
      "outputs": [
        {
          "output_type": "execute_result",
          "data": {
            "text/plain": [
              "         Date  Avila Adobe  Firehouse Museum  Chinese American Museum  \\\n",
              "0  2014-01-01        24778              4486                     1581   \n",
              "1  2014-02-01        18976              4172                     1785   \n",
              "2  2014-03-01        25231              7082                     3229   \n",
              "3  2014-04-01        26989              6756                     2129   \n",
              "4  2014-05-01        36883             10858                     3676   \n",
              "\n",
              "   America Tropical Interpretive Center  \n",
              "0                                  6602  \n",
              "1                                  5029  \n",
              "2                                  8129  \n",
              "3                                  2824  \n",
              "4                                 10694  "
            ],
            "text/html": [
              "\n",
              "  <div id=\"df-d9bc6d76-f983-41dd-8ea1-f9ab9508560d\" class=\"colab-df-container\">\n",
              "    <div>\n",
              "<style scoped>\n",
              "    .dataframe tbody tr th:only-of-type {\n",
              "        vertical-align: middle;\n",
              "    }\n",
              "\n",
              "    .dataframe tbody tr th {\n",
              "        vertical-align: top;\n",
              "    }\n",
              "\n",
              "    .dataframe thead th {\n",
              "        text-align: right;\n",
              "    }\n",
              "</style>\n",
              "<table border=\"1\" class=\"dataframe\">\n",
              "  <thead>\n",
              "    <tr style=\"text-align: right;\">\n",
              "      <th></th>\n",
              "      <th>Date</th>\n",
              "      <th>Avila Adobe</th>\n",
              "      <th>Firehouse Museum</th>\n",
              "      <th>Chinese American Museum</th>\n",
              "      <th>America Tropical Interpretive Center</th>\n",
              "    </tr>\n",
              "  </thead>\n",
              "  <tbody>\n",
              "    <tr>\n",
              "      <th>0</th>\n",
              "      <td>2014-01-01</td>\n",
              "      <td>24778</td>\n",
              "      <td>4486</td>\n",
              "      <td>1581</td>\n",
              "      <td>6602</td>\n",
              "    </tr>\n",
              "    <tr>\n",
              "      <th>1</th>\n",
              "      <td>2014-02-01</td>\n",
              "      <td>18976</td>\n",
              "      <td>4172</td>\n",
              "      <td>1785</td>\n",
              "      <td>5029</td>\n",
              "    </tr>\n",
              "    <tr>\n",
              "      <th>2</th>\n",
              "      <td>2014-03-01</td>\n",
              "      <td>25231</td>\n",
              "      <td>7082</td>\n",
              "      <td>3229</td>\n",
              "      <td>8129</td>\n",
              "    </tr>\n",
              "    <tr>\n",
              "      <th>3</th>\n",
              "      <td>2014-04-01</td>\n",
              "      <td>26989</td>\n",
              "      <td>6756</td>\n",
              "      <td>2129</td>\n",
              "      <td>2824</td>\n",
              "    </tr>\n",
              "    <tr>\n",
              "      <th>4</th>\n",
              "      <td>2014-05-01</td>\n",
              "      <td>36883</td>\n",
              "      <td>10858</td>\n",
              "      <td>3676</td>\n",
              "      <td>10694</td>\n",
              "    </tr>\n",
              "  </tbody>\n",
              "</table>\n",
              "</div>\n",
              "    <div class=\"colab-df-buttons\">\n",
              "\n",
              "  <div class=\"colab-df-container\">\n",
              "    <button class=\"colab-df-convert\" onclick=\"convertToInteractive('df-d9bc6d76-f983-41dd-8ea1-f9ab9508560d')\"\n",
              "            title=\"Convert this dataframe to an interactive table.\"\n",
              "            style=\"display:none;\">\n",
              "\n",
              "  <svg xmlns=\"http://www.w3.org/2000/svg\" height=\"24px\" viewBox=\"0 -960 960 960\">\n",
              "    <path d=\"M120-120v-720h720v720H120Zm60-500h600v-160H180v160Zm220 220h160v-160H400v160Zm0 220h160v-160H400v160ZM180-400h160v-160H180v160Zm440 0h160v-160H620v160ZM180-180h160v-160H180v160Zm440 0h160v-160H620v160Z\"/>\n",
              "  </svg>\n",
              "    </button>\n",
              "\n",
              "  <style>\n",
              "    .colab-df-container {\n",
              "      display:flex;\n",
              "      gap: 12px;\n",
              "    }\n",
              "\n",
              "    .colab-df-convert {\n",
              "      background-color: #E8F0FE;\n",
              "      border: none;\n",
              "      border-radius: 50%;\n",
              "      cursor: pointer;\n",
              "      display: none;\n",
              "      fill: #1967D2;\n",
              "      height: 32px;\n",
              "      padding: 0 0 0 0;\n",
              "      width: 32px;\n",
              "    }\n",
              "\n",
              "    .colab-df-convert:hover {\n",
              "      background-color: #E2EBFA;\n",
              "      box-shadow: 0px 1px 2px rgba(60, 64, 67, 0.3), 0px 1px 3px 1px rgba(60, 64, 67, 0.15);\n",
              "      fill: #174EA6;\n",
              "    }\n",
              "\n",
              "    .colab-df-buttons div {\n",
              "      margin-bottom: 4px;\n",
              "    }\n",
              "\n",
              "    [theme=dark] .colab-df-convert {\n",
              "      background-color: #3B4455;\n",
              "      fill: #D2E3FC;\n",
              "    }\n",
              "\n",
              "    [theme=dark] .colab-df-convert:hover {\n",
              "      background-color: #434B5C;\n",
              "      box-shadow: 0px 1px 3px 1px rgba(0, 0, 0, 0.15);\n",
              "      filter: drop-shadow(0px 1px 2px rgba(0, 0, 0, 0.3));\n",
              "      fill: #FFFFFF;\n",
              "    }\n",
              "  </style>\n",
              "\n",
              "    <script>\n",
              "      const buttonEl =\n",
              "        document.querySelector('#df-d9bc6d76-f983-41dd-8ea1-f9ab9508560d button.colab-df-convert');\n",
              "      buttonEl.style.display =\n",
              "        google.colab.kernel.accessAllowed ? 'block' : 'none';\n",
              "\n",
              "      async function convertToInteractive(key) {\n",
              "        const element = document.querySelector('#df-d9bc6d76-f983-41dd-8ea1-f9ab9508560d');\n",
              "        const dataTable =\n",
              "          await google.colab.kernel.invokeFunction('convertToInteractive',\n",
              "                                                    [key], {});\n",
              "        if (!dataTable) return;\n",
              "\n",
              "        const docLinkHtml = 'Like what you see? Visit the ' +\n",
              "          '<a target=\"_blank\" href=https://colab.research.google.com/notebooks/data_table.ipynb>data table notebook</a>'\n",
              "          + ' to learn more about interactive tables.';\n",
              "        element.innerHTML = '';\n",
              "        dataTable['output_type'] = 'display_data';\n",
              "        await google.colab.output.renderOutput(dataTable, element);\n",
              "        const docLink = document.createElement('div');\n",
              "        docLink.innerHTML = docLinkHtml;\n",
              "        element.appendChild(docLink);\n",
              "      }\n",
              "    </script>\n",
              "  </div>\n",
              "\n",
              "\n",
              "<div id=\"df-fba53953-cfdd-42aa-b0da-16c779acc3d0\">\n",
              "  <button class=\"colab-df-quickchart\" onclick=\"quickchart('df-fba53953-cfdd-42aa-b0da-16c779acc3d0')\"\n",
              "            title=\"Suggest charts\"\n",
              "            style=\"display:none;\">\n",
              "\n",
              "<svg xmlns=\"http://www.w3.org/2000/svg\" height=\"24px\"viewBox=\"0 0 24 24\"\n",
              "     width=\"24px\">\n",
              "    <g>\n",
              "        <path d=\"M19 3H5c-1.1 0-2 .9-2 2v14c0 1.1.9 2 2 2h14c1.1 0 2-.9 2-2V5c0-1.1-.9-2-2-2zM9 17H7v-7h2v7zm4 0h-2V7h2v10zm4 0h-2v-4h2v4z\"/>\n",
              "    </g>\n",
              "</svg>\n",
              "  </button>\n",
              "\n",
              "<style>\n",
              "  .colab-df-quickchart {\n",
              "      --bg-color: #E8F0FE;\n",
              "      --fill-color: #1967D2;\n",
              "      --hover-bg-color: #E2EBFA;\n",
              "      --hover-fill-color: #174EA6;\n",
              "      --disabled-fill-color: #AAA;\n",
              "      --disabled-bg-color: #DDD;\n",
              "  }\n",
              "\n",
              "  [theme=dark] .colab-df-quickchart {\n",
              "      --bg-color: #3B4455;\n",
              "      --fill-color: #D2E3FC;\n",
              "      --hover-bg-color: #434B5C;\n",
              "      --hover-fill-color: #FFFFFF;\n",
              "      --disabled-bg-color: #3B4455;\n",
              "      --disabled-fill-color: #666;\n",
              "  }\n",
              "\n",
              "  .colab-df-quickchart {\n",
              "    background-color: var(--bg-color);\n",
              "    border: none;\n",
              "    border-radius: 50%;\n",
              "    cursor: pointer;\n",
              "    display: none;\n",
              "    fill: var(--fill-color);\n",
              "    height: 32px;\n",
              "    padding: 0;\n",
              "    width: 32px;\n",
              "  }\n",
              "\n",
              "  .colab-df-quickchart:hover {\n",
              "    background-color: var(--hover-bg-color);\n",
              "    box-shadow: 0 1px 2px rgba(60, 64, 67, 0.3), 0 1px 3px 1px rgba(60, 64, 67, 0.15);\n",
              "    fill: var(--button-hover-fill-color);\n",
              "  }\n",
              "\n",
              "  .colab-df-quickchart-complete:disabled,\n",
              "  .colab-df-quickchart-complete:disabled:hover {\n",
              "    background-color: var(--disabled-bg-color);\n",
              "    fill: var(--disabled-fill-color);\n",
              "    box-shadow: none;\n",
              "  }\n",
              "\n",
              "  .colab-df-spinner {\n",
              "    border: 2px solid var(--fill-color);\n",
              "    border-color: transparent;\n",
              "    border-bottom-color: var(--fill-color);\n",
              "    animation:\n",
              "      spin 1s steps(1) infinite;\n",
              "  }\n",
              "\n",
              "  @keyframes spin {\n",
              "    0% {\n",
              "      border-color: transparent;\n",
              "      border-bottom-color: var(--fill-color);\n",
              "      border-left-color: var(--fill-color);\n",
              "    }\n",
              "    20% {\n",
              "      border-color: transparent;\n",
              "      border-left-color: var(--fill-color);\n",
              "      border-top-color: var(--fill-color);\n",
              "    }\n",
              "    30% {\n",
              "      border-color: transparent;\n",
              "      border-left-color: var(--fill-color);\n",
              "      border-top-color: var(--fill-color);\n",
              "      border-right-color: var(--fill-color);\n",
              "    }\n",
              "    40% {\n",
              "      border-color: transparent;\n",
              "      border-right-color: var(--fill-color);\n",
              "      border-top-color: var(--fill-color);\n",
              "    }\n",
              "    60% {\n",
              "      border-color: transparent;\n",
              "      border-right-color: var(--fill-color);\n",
              "    }\n",
              "    80% {\n",
              "      border-color: transparent;\n",
              "      border-right-color: var(--fill-color);\n",
              "      border-bottom-color: var(--fill-color);\n",
              "    }\n",
              "    90% {\n",
              "      border-color: transparent;\n",
              "      border-bottom-color: var(--fill-color);\n",
              "    }\n",
              "  }\n",
              "</style>\n",
              "\n",
              "  <script>\n",
              "    async function quickchart(key) {\n",
              "      const quickchartButtonEl =\n",
              "        document.querySelector('#' + key + ' button');\n",
              "      quickchartButtonEl.disabled = true;  // To prevent multiple clicks.\n",
              "      quickchartButtonEl.classList.add('colab-df-spinner');\n",
              "      try {\n",
              "        const charts = await google.colab.kernel.invokeFunction(\n",
              "            'suggestCharts', [key], {});\n",
              "      } catch (error) {\n",
              "        console.error('Error during call to suggestCharts:', error);\n",
              "      }\n",
              "      quickchartButtonEl.classList.remove('colab-df-spinner');\n",
              "      quickchartButtonEl.classList.add('colab-df-quickchart-complete');\n",
              "    }\n",
              "    (() => {\n",
              "      let quickchartButtonEl =\n",
              "        document.querySelector('#df-fba53953-cfdd-42aa-b0da-16c779acc3d0 button');\n",
              "      quickchartButtonEl.style.display =\n",
              "        google.colab.kernel.accessAllowed ? 'block' : 'none';\n",
              "    })();\n",
              "  </script>\n",
              "</div>\n",
              "    </div>\n",
              "  </div>\n"
            ]
          },
          "metadata": {},
          "execution_count": 14
        }
      ]
    },
    {
      "cell_type": "markdown",
      "source": [
        "Провести попередній аналіз даних (визначити розмір датасету, тип даних, кількість пропусків)."
      ],
      "metadata": {
        "id": "KNVbU_7NyjyJ"
      }
    },
    {
      "cell_type": "code",
      "source": [
        "print(\"Table Size:\", data.shape)\n",
        "print(\"\\nMissing Values:\\n\", data.isnull().sum())\n",
        "print(\"\\nColumn Types:\\n\", data.dtypes)"
      ],
      "metadata": {
        "colab": {
          "base_uri": "https://localhost:8080/"
        },
        "id": "ErpbUGVDyjCv",
        "outputId": "316fc78c-0e42-4cab-ff6f-e5efabf6c388"
      },
      "execution_count": null,
      "outputs": [
        {
          "output_type": "stream",
          "name": "stdout",
          "text": [
            "Table Size: (59, 5)\n",
            "\n",
            "Missing Values:\n",
            " Date                                    0\n",
            "Avila Adobe                             0\n",
            "Firehouse Museum                        0\n",
            "Chinese American Museum                 0\n",
            "America Tropical Interpretive Center    0\n",
            "dtype: int64\n",
            "\n",
            "Column Types:\n",
            " Date                                    object\n",
            "Avila Adobe                              int64\n",
            "Firehouse Museum                         int64\n",
            "Chinese American Museum                  int64\n",
            "America Tropical Interpretive Center     int64\n",
            "dtype: object\n"
          ]
        }
      ]
    },
    {
      "cell_type": "markdown",
      "source": [
        "Перевірити наявність дублікатів. Якщо є, видалити їх і вивести розмір таблиці (без дублікатів)."
      ],
      "metadata": {
        "id": "4kHNBP60yoUV"
      }
    },
    {
      "cell_type": "code",
      "source": [
        "\n",
        "duplicates = data.duplicated()\n",
        "num_duplicates = duplicates.sum()\n",
        "print(f\"\\nNumber of duplicates: {num_duplicates}\")\n",
        "\n",
        "data_no_duplicates = data.drop_duplicates()\n",
        "\n",
        "\n",
        "print(\"\\nSize of the table without duplicates:\")\n",
        "print(data_no_duplicates.shape)\n"
      ],
      "metadata": {
        "colab": {
          "base_uri": "https://localhost:8080/"
        },
        "id": "odoVO3npypln",
        "outputId": "d7ade743-fd2f-4d48-c634-55ca31ccda76"
      },
      "execution_count": null,
      "outputs": [
        {
          "output_type": "stream",
          "name": "stdout",
          "text": [
            "\n",
            "Number of duplicates: 0\n",
            "\n",
            "Size of the table without duplicates:\n",
            "(59, 5)\n"
          ]
        }
      ]
    },
    {
      "cell_type": "markdown",
      "source": [
        "Про які роки містить інформацію датасет.\n"
      ],
      "metadata": {
        "id": "jEjtIL5mywCS"
      }
    },
    {
      "cell_type": "code",
      "source": [
        "\n",
        "unique_years = data_no_duplicates['Date'].unique()\n",
        "\n",
        "print(\"Unique years in the dataset:\")\n",
        "print(unique_years)"
      ],
      "metadata": {
        "colab": {
          "base_uri": "https://localhost:8080/"
        },
        "id": "fXw8NpbQy2-z",
        "outputId": "57b2b39a-862b-413f-85f1-fdf0b7cd22f0"
      },
      "execution_count": null,
      "outputs": [
        {
          "output_type": "stream",
          "name": "stdout",
          "text": [
            "Unique years in the dataset:\n",
            "['2014-01-01' '2014-02-01' '2014-03-01' '2014-04-01' '2014-05-01'\n",
            " '2014-06-01' '2014-07-01' '2014-08-01' '2014-09-01' '2014-10-01'\n",
            " '2014-11-01' '2014-12-01' '2015-01-01' '2015-02-01' '2015-03-01'\n",
            " '2015-04-01' '2015-05-01' '2015-06-01' '2015-07-01' '2015-08-01'\n",
            " '2015-09-01' '2015-10-01' '2015-11-01' '2015-12-01' '2016-01-01'\n",
            " '2016-02-01' '2016-03-01' '2016-04-01' '2016-05-01' '2016-06-01'\n",
            " '2016-07-01' '2016-08-01' '2016-09-01' '2016-10-01' '2016-11-01'\n",
            " '2016-12-01' '2017-01-01' '2017-02-01' '2017-03-01' '2017-04-01'\n",
            " '2017-05-01' '2017-06-01' '2017-07-01' '2017-08-01' '2017-09-01'\n",
            " '2017-10-01' '2017-11-01' '2017-12-01' '2018-01-01' '2018-02-01'\n",
            " '2018-03-01' '2018-04-01' '2018-05-01' '2018-06-01' '2018-07-01'\n",
            " '2018-08-01' '2018-09-01' '2018-10-01' '2018-11-01']\n"
          ]
        }
      ]
    },
    {
      "cell_type": "markdown",
      "source": [
        "Змінити назви столбців. Замінити великі букви на маленьки, пробіли на підкреслення (date, avila_adobe, firehouse_museum, chinese_american_museum, america_tropical_interpretive_center)."
      ],
      "metadata": {
        "id": "Wo7fjJu0y_Au"
      }
    },
    {
      "cell_type": "code",
      "source": [
        "\n",
        "data_no_duplicates.rename(columns={\n",
        "    'Date': 'date',\n",
        "    'Avila Adobe': 'avila_adobe',\n",
        "    'Firehouse Museum': 'firehouse_museum',\n",
        "    'Chinese American Museum': 'chinese_american_museum',\n",
        "    'America Tropical Interpretive Center': 'america_tropical_interpretive_center'\n",
        "}, inplace=True)\n",
        "\n",
        "print(data_no_duplicates.head())\n"
      ],
      "metadata": {
        "colab": {
          "base_uri": "https://localhost:8080/"
        },
        "id": "Cg11cRGMzF1L",
        "outputId": "ff8d90a2-8208-4648-cf7f-8a26111e4aa7"
      },
      "execution_count": null,
      "outputs": [
        {
          "output_type": "stream",
          "name": "stdout",
          "text": [
            "         date  avila_adobe  firehouse_museum  chinese_american_museum  \\\n",
            "0  2014-01-01        24778              4486                     1581   \n",
            "1  2014-02-01        18976              4172                     1785   \n",
            "2  2014-03-01        25231              7082                     3229   \n",
            "3  2014-04-01        26989              6756                     2129   \n",
            "4  2014-05-01        36883             10858                     3676   \n",
            "\n",
            "   america_tropical_interpretive_center  \n",
            "0                                  6602  \n",
            "1                                  5029  \n",
            "2                                  8129  \n",
            "3                                  2824  \n",
            "4                                 10694  \n"
          ]
        }
      ]
    },
    {
      "cell_type": "markdown",
      "source": [
        "Обчислити середню кількість відвідувачів для кожного музею протягом всього періоду."
      ],
      "metadata": {
        "id": "ros0sqjJzM9a"
      }
    },
    {
      "cell_type": "code",
      "source": [
        "\n",
        "data_no_duplicates['average_visitors'] = data_no_duplicates.mean(axis=1)\n",
        "\n",
        "\n",
        "print(\"Розмір таблиці після додавання середньої кількості відвідувачів:\", data_no_duplicates.shape)\n",
        "print(data_no_duplicates.head())\n"
      ],
      "metadata": {
        "colab": {
          "base_uri": "https://localhost:8080/"
        },
        "id": "mS79ayNgzPPC",
        "outputId": "60770fcb-fd73-4c7e-eacd-066fe9f9b334"
      },
      "execution_count": null,
      "outputs": [
        {
          "output_type": "stream",
          "name": "stdout",
          "text": [
            "Розмір таблиці після додавання середньої кількості відвідувачів: (59, 6)\n",
            "         date  avila_adobe  firehouse_museum  chinese_american_museum  \\\n",
            "0  2014-01-01        24778              4486                     1581   \n",
            "1  2014-02-01        18976              4172                     1785   \n",
            "2  2014-03-01        25231              7082                     3229   \n",
            "3  2014-04-01        26989              6756                     2129   \n",
            "4  2014-05-01        36883             10858                     3676   \n",
            "\n",
            "   america_tropical_interpretive_center  average_visitors  \n",
            "0                                  6602           9361.75  \n",
            "1                                  5029           7490.50  \n",
            "2                                  8129          10917.75  \n",
            "3                                  2824           9674.50  \n",
            "4                                 10694          15527.75  \n"
          ]
        },
        {
          "output_type": "stream",
          "name": "stderr",
          "text": [
            "<ipython-input-21-849a9b040c7d>:1: FutureWarning: Dropping of nuisance columns in DataFrame reductions (with 'numeric_only=None') is deprecated; in a future version this will raise TypeError.  Select only valid columns before calling the reduction.\n",
            "  data_no_duplicates['average_visitors'] = data_no_duplicates.mean(axis=1)\n"
          ]
        }
      ]
    },
    {
      "cell_type": "markdown",
      "source": [
        "Знайти мінімальну та максимальну кількість відвідувачів для кожного музею за 2018 рік"
      ],
      "metadata": {
        "id": "1DGUtc0xzXZ_"
      }
    },
    {
      "cell_type": "code",
      "source": [
        "\n",
        "columns_2018 = ['date', 'avila_adobe', 'firehouse_museum', 'chinese_american_museum', 'america_tropical_interpretive_center']\n",
        "data_2018 = data_no_duplicates[columns_2018]\n",
        "\n",
        "min_visitors_2018 = data_2018.min()\n",
        "max_visitors_2018 = data_2018.max()\n",
        "\n",
        "\n",
        "print(\"Мінімальна кількість відвідувачів за 2018 рік:\")\n",
        "print(min_visitors_2018)\n",
        "print(\"\\nМаксимальна кількість відвідувачів за 2018 рік:\")\n",
        "print(max_visitors_2018)\n"
      ],
      "metadata": {
        "colab": {
          "base_uri": "https://localhost:8080/"
        },
        "id": "k3I5_yiYzcWE",
        "outputId": "cb472e6a-4d1d-4dae-84bb-d1883273ff13"
      },
      "execution_count": null,
      "outputs": [
        {
          "output_type": "stream",
          "name": "stdout",
          "text": [
            "Мінімальна кількість відвідувачів за 2018 рік:\n",
            "date                                    2014-01-01\n",
            "avila_adobe                                  14035\n",
            "firehouse_museum                              3306\n",
            "chinese_american_museum                       1073\n",
            "america_tropical_interpretive_center          2824\n",
            "dtype: object\n",
            "\n",
            "Максимальна кількість відвідувачів за 2018 рік:\n",
            "date                                    2018-11-01\n",
            "avila_adobe                                  41242\n",
            "firehouse_museum                             61192\n",
            "chinese_american_museum                       7702\n",
            "america_tropical_interpretive_center         13490\n",
            "dtype: object\n"
          ]
        }
      ]
    },
    {
      "cell_type": "markdown",
      "source": [
        "Визначити місяці з найвищою і найнижчою загальною кількістю відвідувачів серед усіх музеїв для 2015 року. Вивести назви місяців (не цифри)."
      ],
      "metadata": {
        "id": "Zyibrq-pzhtz"
      }
    },
    {
      "cell_type": "markdown",
      "source": [
        "Висновок\n",
        "завдання 1:\n",
        "\n",
        "У цьому завданні було проаналізовано та кластеризовано дані з файлу shopping_trends.csv. Після завантаження даних і перевірки розміру таблиці, пропусків і типів стовпців були обрані важливі числові характеристики, такі як \"вік\", \"сума покупки (USD)\", \"рейтинг відгуків\" і \"попередні покупки\".\n",
        "\n",
        "Потім було застосовано метод масштабування, щоб переконатися, що числові ознаки були однаково масштабовані. Для визначення оптимальної кількості кластерів, в які можна було б ефективно згрупувати дані, використовувався метод ліктя. Оптимальна кількість кластерів була визначена як \"точка ліктя\" на графіку залежності значень кластерів від кількості кластерів.\n",
        "\n",
        "Потім дані були згруповані за допомогою алгоритму K-середніх. Результати були візуалізовані за допомогою методу аналізу головних компонент (PCA), який зменшив розмірність даних і дозволив відобразити їх у двовимірному просторі.\n",
        "\n",
        "Таким чином, алгоритм K-середніх був успішно використаний для аналізу та кластеризації даних, надаючи уявлення про структуру даних та групування, а метод PCA допомагає візуалізувати результати кластеризації, роблячи їх більш зрозумілими та легшими для інтерпретації.\n",
        "\n",
        "висновок Завдання 2: Проаналізувавши дані про відвідуваність музеїв, було виявлено важливі залежності та тенденції. Набір даних містить інформацію за кілька років і з різних музеїв. Важливими кроками в обробці та аналізі даних є видалення дублікатів, розрахунок середньої кількості відвідувачів для кожного музею та виявлення екстремальних значень у певні роки.\n",
        "\n",
        "При візуалізації даних розглядалися кореляційні теплові карти, лінійні графіки, що показують динаміку кількості відвідувачів, діаграми розсіювання для оцінки розподілу та гістограми кількості відвідувачів за місяць. Це дозволило отримати важливу інформацію про популярність окремих музеїв, тенденції у відвідуваності та взаємодію між різними музеями.\n",
        "\n",
        " Аналіз показав, які музеї є найпопулярнішими і як змінювалася кількість їхніх відвідувачів з роками."
      ],
      "metadata": {
        "id": "7OL-9oiZ4_2u"
      }
    },
    {
      "cell_type": "code",
      "source": [],
      "metadata": {
        "id": "Y3UGDnZE6QSe"
      },
      "execution_count": null,
      "outputs": []
    }
  ]
}