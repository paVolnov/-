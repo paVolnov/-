{
  "cells": [
    {
      "cell_type": "markdown",
      "id": "7dd09fa4",
      "metadata": {
        "id": "7dd09fa4"
      },
      "source": [
        "### Завдання 2"
      ]
    },
    {
      "cell_type": "markdown",
      "id": "61a164f3",
      "metadata": {
        "id": "61a164f3"
      },
      "source": [
        "Розробити за допомогою бібліотеки surprise рекомендаційну систему"
      ]
    },
    {
      "cell_type": "code",
      "execution_count": null,
      "id": "0c1e5073",
      "metadata": {
        "id": "0c1e5073"
      },
      "outputs": [],
      "source": [
        "from surprise import Dataset, Reader, SVD, SVDpp\n",
        "from surprise.model_selection import cross_validate\n",
        "import matplotlib.pyplot as plt"
      ]
    },
    {
      "cell_type": "markdown",
      "id": "64891a53",
      "metadata": {
        "id": "64891a53"
      },
      "source": [
        "Використати датасет movielens-100k"
      ]
    },
    {
      "cell_type": "code",
      "execution_count": null,
      "id": "bced2e93",
      "metadata": {
        "id": "bced2e93"
      },
      "outputs": [],
      "source": [
        "data = Dataset.load_builtin(name='ml-100k', prompt=False)"
      ]
    },
    {
      "cell_type": "markdown",
      "id": "42e0826b",
      "metadata": {
        "id": "42e0826b"
      },
      "source": [
        "Використайте алгоритми SVD, SVDpp.\n",
        "Найкращі параметри для всіх алгоритмів підберіть за допомогою кросвалідації."
      ]
    },
    {
      "cell_type": "code",
      "execution_count": null,
      "id": "211c7d20",
      "metadata": {
        "id": "211c7d20"
      },
      "outputs": [],
      "source": [
        "algo_svd = SVD()\n",
        "algo_svdpp = SVDpp()"
      ]
    },
    {
      "cell_type": "code",
      "execution_count": null,
      "id": "0b897e2f",
      "metadata": {
        "id": "0b897e2f",
        "outputId": "36f5e446-5044-428f-d452-7b74b2526be2"
      },
      "outputs": [
        {
          "name": "stdout",
          "output_type": "stream",
          "text": [
            "Evaluating RMSE of algorithm SVD on 2 split(s).\n",
            "\n",
            "                  Fold 1  Fold 2  Mean    Std     \n",
            "RMSE (testset)    0.9571  0.9560  0.9566  0.0005  \n",
            "Fit time          0.23    0.21    0.22    0.01    \n",
            "Test time         0.18    0.17    0.17    0.00    \n",
            "Evaluating RMSE of algorithm SVDpp on 2 split(s).\n",
            "\n",
            "                  Fold 1  Fold 2  Mean    Std     \n",
            "RMSE (testset)    0.9390  0.9398  0.9394  0.0004  \n",
            "Fit time          3.60    8.23    5.91    2.32    \n",
            "Test time         6.01    6.38    6.19    0.18    \n"
          ]
        }
      ],
      "source": [
        "cv_svd = cross_validate(algo_svd, data, measures=['RMSE'], cv=2, verbose=True)\n",
        "cv_svdpp = cross_validate(algo_svdpp, data, measures=['RMSE'], cv=2, verbose=True)"
      ]
    },
    {
      "cell_type": "markdown",
      "id": "6d3cff58",
      "metadata": {
        "id": "6d3cff58"
      },
      "source": [
        "Обчисліть середнє значення середньоквадратичної помилки RMSE для\n",
        "кожного алгоритму на основі результатів крос-валідації."
      ]
    },
    {
      "cell_type": "code",
      "execution_count": null,
      "id": "4038c749",
      "metadata": {
        "id": "4038c749",
        "outputId": "5d8f80f7-530e-4b62-82ef-7c7dbf503c97"
      },
      "outputs": [
        {
          "name": "stdout",
          "output_type": "stream",
          "text": [
            "SVD RMSE: 0.9565671817125327\n",
            "SVD++ RMSE: 0.9393921730597037\n"
          ]
        }
      ],
      "source": [
        "svd_rmse = cv_svd['test_rmse'].mean()\n",
        "svdpp_rmse = cv_svdpp['test_rmse'].mean()\n",
        "\n",
        "print(\"SVD RMSE:\", svd_rmse)\n",
        "print(\"SVD++ RMSE:\", svdpp_rmse)"
      ]
    },
    {
      "cell_type": "markdown",
      "id": "b2125d5e",
      "metadata": {
        "id": "b2125d5e"
      },
      "source": [
        "Виберіть оптимальний алгоритм. Зробіть візуалізацію."
      ]
    },
    {
      "cell_type": "code",
      "execution_count": null,
      "id": "a0ebe8e2",
      "metadata": {
        "id": "a0ebe8e2",
        "outputId": "bafa26a8-3adc-4316-9bbc-485bc751a107"
      },
      "outputs": [
        {
          "data": {
            "image/png": "[encoded data removed]",
            "text/plain": [
              "<Figure size 640x480 with 1 Axes>"
            ]
          },
          "metadata": {},
          "output_type": "display_data"
        }
      ],
      "source": [
        "rmse_values = [svd_rmse, svdpp_rmse]\n",
        "algos = ['SVD', 'SVD++']\n",
        "plt.bar(algos, rmse_values, color=['blue', 'purple'])\n",
        "plt.xlabel('Algorithms')\n",
        "plt.ylabel(\"RMSE Values\")\n",
        "plt.title('RMSE Comparison for Matrix Factorization Algorithms')\n",
        "plt.ylim(0.9, 1.0)\n",
        "plt.gca().set_axisbelow(True)\n",
        "plt.grid(linewidth=0.5)\n",
        "plt.show()"
      ]
    },
    {
      "cell_type": "markdown",
      "id": "2f3407fa",
      "metadata": {
        "id": "2f3407fa"
      },
      "source": [
        "Алгоритм SVD++(SVPpp) видав найменшу сердньоквадратичну помилку, тому він є оптимальним."
      ]
    }
  ],
  "metadata": {
    "kernelspec": {
      "display_name": "Python 3 (ipykernel)",
      "language": "python",
      "name": "python3"
    },
    "language_info": {
      "codemirror_mode": {
        "name": "ipython",
        "version": 3
      },
      "file_extension": ".py",
      "mimetype": "text/x-python",
      "name": "python",
      "nbconvert_exporter": "python",
      "pygments_lexer": "ipython3",
      "version": "3.11.5"
    },
    "colab": {
      "provenance": []
    }
  },
  "nbformat": 4,
  "nbformat_minor": 5
}