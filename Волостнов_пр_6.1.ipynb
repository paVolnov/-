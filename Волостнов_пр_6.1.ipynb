{
  "cells": [
    {
      "cell_type": "markdown",
      "id": "3209969a",
      "metadata": {
        "id": "3209969a"
      },
      "source": [
        "## Практична робота 6"
      ]
    },
    {
      "cell_type": "markdown",
      "id": "fae8bd33",
      "metadata": {
        "id": "fae8bd33"
      },
      "source": [
        "### Завдання 1"
      ]
    },
    {
      "cell_type": "markdown",
      "id": "e288505e",
      "metadata": {
        "id": "e288505e"
      },
      "source": [
        "Класифікація ірисів. З використанням алгоритмів SVM та Random Forest провести класифікацію ірисів за їхніми ознаками. Використовувати набір даних Iris, що належить бібліотеці scikit-learn.  \n",
        "\n",
        "Для цього виконати наступні кроки:"
      ]
    },
    {
      "cell_type": "markdown",
      "id": "cf442017",
      "metadata": {
        "id": "cf442017"
      },
      "source": [
        "1. Завантажити набір даних Iris з бібліотеки scikit-learn."
      ]
    },
    {
      "cell_type": "code",
      "execution_count": null,
      "id": "60bcfaa1",
      "metadata": {
        "id": "60bcfaa1"
      },
      "outputs": [],
      "source": [
        "from sklearn import datasets\n",
        "from sklearn.model_selection import train_test_split\n",
        "from sklearn.svm import SVC\n",
        "from sklearn.ensemble import RandomForestClassifier\n",
        "from sklearn.metrics import accuracy_score\n",
        "import matplotlib.pyplot as plt"
      ]
    },
    {
      "cell_type": "code",
      "execution_count": null,
      "id": "5bd81207",
      "metadata": {
        "id": "5bd81207",
        "outputId": "675c8293-f2d0-44b2-a408-3618e320f51d"
      },
      "outputs": [
        {
          "name": "stdout",
          "output_type": "stream",
          "text": [
            ".. _iris_dataset:\n",
            "\n",
            "Iris plants dataset\n",
            "--------------------\n",
            "\n",
            "**Data Set Characteristics:**\n",
            "\n",
            "    :Number of Instances: 150 (50 in each of three classes)\n",
            "    :Number of Attributes: 4 numeric, predictive attributes and the class\n",
            "    :Attribute Information:\n",
            "        - sepal length in cm\n",
            "        - sepal width in cm\n",
            "        - petal length in cm\n",
            "        - petal width in cm\n",
            "        - class:\n",
            "                - Iris-Setosa\n",
            "                - Iris-Versicolour\n",
            "                - Iris-Virginica\n",
            "                \n",
            "    :Summary Statistics:\n",
            "\n",
            "    ============== ==== ==== ======= ===== ====================\n",
            "                    Min  Max   Mean    SD   Class Correlation\n",
            "    ============== ==== ==== ======= ===== ====================\n",
            "    sepal length:   4.3  7.9   5.84   0.83    0.7826\n",
            "    sepal width:    2.0  4.4   3.05   0.43   -0.4194\n",
            "    petal length:   1.0  6.9   3.76   1.76    0.9490  (high!)\n",
            "    petal width:    0.1  2.5   1.20   0.76    0.9565  (high!)\n",
            "    ============== ==== ==== ======= ===== ====================\n",
            "\n",
            "    :Missing Attribute Values: None\n",
            "    :Class Distribution: 33.3% for each of 3 classes.\n",
            "    :Creator: R.A. Fisher\n",
            "    :Donor: Michael Marshall (MARSHALL%PLU@io.arc.nasa.gov)\n",
            "    :Date: July, 1988\n",
            "\n",
            "The famous Iris database, first used by Sir R.A. Fisher. The dataset is taken\n",
            "from Fisher's paper. Note that it's the same as in R, but not as in the UCI\n",
            "Machine Learning Repository, which has two wrong data points.\n",
            "\n",
            "This is perhaps the best known database to be found in the\n",
            "pattern recognition literature.  Fisher's paper is a classic in the field and\n",
            "is referenced frequently to this day.  (See Duda & Hart, for example.)  The\n",
            "data set contains 3 classes of 50 instances each, where each class refers to a\n",
            "type of iris plant.  One class is linearly separable from the other 2; the\n",
            "latter are NOT linearly separable from each other.\n",
            "\n",
            ".. topic:: References\n",
            "\n",
            "   - Fisher, R.A. \"The use of multiple measurements in taxonomic problems\"\n",
            "     Annual Eugenics, 7, Part II, 179-188 (1936); also in \"Contributions to\n",
            "     Mathematical Statistics\" (John Wiley, NY, 1950).\n",
            "   - Duda, R.O., & Hart, P.E. (1973) Pattern Classification and Scene Analysis.\n",
            "     (Q327.D83) John Wiley & Sons.  ISBN 0-471-22361-1.  See page 218.\n",
            "   - Dasarathy, B.V. (1980) \"Nosing Around the Neighborhood: A New System\n",
            "     Structure and Classification Rule for Recognition in Partially Exposed\n",
            "     Environments\".  IEEE Transactions on Pattern Analysis and Machine\n",
            "     Intelligence, Vol. PAMI-2, No. 1, 67-71.\n",
            "   - Gates, G.W. (1972) \"The Reduced Nearest Neighbor Rule\".  IEEE Transactions\n",
            "     on Information Theory, May 1972, 431-433.\n",
            "   - See also: 1988 MLC Proceedings, 54-64.  Cheeseman et al\"s AUTOCLASS II\n",
            "     conceptual clustering system finds 3 classes in the data.\n",
            "   - Many, many more ...\n"
          ]
        }
      ],
      "source": [
        "iris = datasets.load_iris()\n",
        "\n",
        "print(iris.DESCR)"
      ]
    },
    {
      "cell_type": "markdown",
      "id": "d8039659",
      "metadata": {
        "id": "d8039659"
      },
      "source": [
        "2. Розділити дані на тренувальний та тестовий набори"
      ]
    },
    {
      "cell_type": "code",
      "execution_count": null,
      "id": "6ad494df",
      "metadata": {
        "id": "6ad494df"
      },
      "outputs": [],
      "source": [
        "X = iris.data\n",
        "y = iris.target\n",
        "\n",
        "X_train, X_test, y_train, y_test = train_test_split(X, y, test_size = 0.2, random_state = 42)"
      ]
    },
    {
      "cell_type": "markdown",
      "id": "52d44e3d",
      "metadata": {
        "id": "52d44e3d"
      },
      "source": [
        "3. Застосувати алгоритм SVM для класифікації даних та визначити його точність."
      ]
    },
    {
      "cell_type": "code",
      "execution_count": null,
      "id": "62238282",
      "metadata": {
        "id": "62238282",
        "outputId": "f8f243e4-e6b8-44fd-fe25-f14b8e6a97c4"
      },
      "outputs": [
        {
          "name": "stdout",
          "output_type": "stream",
          "text": [
            "Точність SVM:  1.0\n"
          ]
        }
      ],
      "source": [
        "svm_cl = SVC(kernel='linear')\n",
        "svm_cl.fit(X_train, y_train)\n",
        "svm_pred = svm_cl.predict(X_test)\n",
        "svm_accuracy = accuracy_score(y_test, svm_pred)\n",
        "\n",
        "print(\"Точність SVM: \", svm_accuracy)"
      ]
    },
    {
      "cell_type": "markdown",
      "id": "bd6f1c1d",
      "metadata": {
        "id": "bd6f1c1d"
      },
      "source": [
        "4. Застосувати Random Forest для класифікації даних та визначити його точність."
      ]
    },
    {
      "cell_type": "code",
      "execution_count": null,
      "id": "737f3f2c",
      "metadata": {
        "id": "737f3f2c",
        "outputId": "a5df470b-4d70-4e05-c50b-c474ea536c18"
      },
      "outputs": [
        {
          "name": "stdout",
          "output_type": "stream",
          "text": [
            "Точність Random Forest:  1.0\n"
          ]
        }
      ],
      "source": [
        "rf_cl = RandomForestClassifier(random_state=42)\n",
        "rf_cl.fit(X_train, y_train)\n",
        "rf_pred = rf_cl.predict(X_test)\n",
        "rf_accuracy = accuracy_score(y_test, rf_pred)\n",
        "\n",
        "print(\"Точність Random Forest: \", rf_accuracy)"
      ]
    },
    {
      "cell_type": "markdown",
      "id": "4f5058cd",
      "metadata": {
        "id": "4f5058cd"
      },
      "source": [
        "5. Порівняти результати обох алгоритмів та обговорити їхню ефективність."
      ]
    },
    {
      "cell_type": "code",
      "execution_count": null,
      "id": "78d4a46c",
      "metadata": {
        "id": "78d4a46c",
        "outputId": "290fd707-bb0d-49a7-e479-bb4abeaca8b5"
      },
      "outputs": [
        {
          "name": "stdout",
          "output_type": "stream",
          "text": [
            "Обидва алгоритма мають однакову точність\n"
          ]
        }
      ],
      "source": [
        "if svm_accuracy > rf_accuracy:\n",
        "    print(\"Алгоритм SVM ефективніший за Random Forest на\", svm_accuracy - rf_accuracy)\n",
        "elif svm_accuracy < rf_accuracy:\n",
        "    print(\"Алгоритм Random Forest ефективніший за SVM на\", rf_accuracy - svm_accuracy)\n",
        "else:\n",
        "    print(\"Обидва алгоритма мають однакову точність\")"
      ]
    }
  ],
  "metadata": {
    "kernelspec": {
      "display_name": "Python 3 (ipykernel)",
      "language": "python",
      "name": "python3"
    },
    "language_info": {
      "codemirror_mode": {
        "name": "ipython",
        "version": 3
      },
      "file_extension": ".py",
      "mimetype": "text/x-python",
      "name": "python",
      "nbconvert_exporter": "python",
      "pygments_lexer": "ipython3",
      "version": "3.11.5"
    },
    "colab": {
      "provenance": []
    }
  },
  "nbformat": 4,
  "nbformat_minor": 5
}